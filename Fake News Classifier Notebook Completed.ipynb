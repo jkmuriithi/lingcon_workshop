{
 "cells": [
  {
   "cell_type": "markdown",
   "metadata": {},
   "source": [
    "# How to Make a Text Classifier: Fake News Edition\n",
    "<br><br>\n",
    "\n",
    "<b>Agenda:</b>\n",
    "\n",
    "We are going to build a naive bayes classifier for the purpose of classifying news as \"FAKE\" or \"REAL\"\n",
    "\n",
    "- Prepare the corpus (documents) for modeling using count and tfidf vectorizers\n",
    "- Train a naive bayes model on the vectorized documents\n",
    "- Use grid search to optimize our model."
   ]
  },
  {
   "cell_type": "markdown",
   "metadata": {},
   "source": [
    "[Article about this project](https://opendatascience.com/blog/how-to-build-a-fake-news-classification-model/)"
   ]
  },
  {
   "cell_type": "markdown",
   "metadata": {},
   "source": [
    "## “A lie gets halfway around the world before the truth has a chance to get its pants on.” – Winston Churchill\n"
   ]
  },
  {
   "cell_type": "markdown",
   "metadata": {},
   "source": [
    "<b>“What is fake news?”</b>\n",
    "<br><br>\n",
    "<b>Can you build a model that can differentiate between “Real” news vs “Fake” news.</b>"
   ]
  },
  {
   "cell_type": "code",
   "execution_count": null,
   "metadata": {},
   "outputs": [],
   "source": []
  },
  {
   "cell_type": "markdown",
   "metadata": {},
   "source": [
    "Requirements: pandas, numpy, matplotlib, sklearn, nltk\n",
    "\n",
    "This is in Python 3"
   ]
  },
  {
   "cell_type": "code",
   "execution_count": 116,
   "metadata": {},
   "outputs": [],
   "source": [
    "#Imports\n",
    "import pandas as pd\n",
    "import matplotlib.pyplot as plt\n",
    "%matplotlib inline\n",
    "import seaborn as sns\n",
    "from nltk.stem.snowball import SnowballStemmer\n",
    "from sklearn.model_selection import cross_val_score\n",
    "from sklearn.feature_extraction.text import CountVectorizer\n",
    "from sklearn.feature_extraction.text import TfidfVectorizer\n",
    "from sklearn.naive_bayes import MultinomialNB\n",
    "from sklearn.pipeline import make_pipeline\n",
    "from sklearn.grid_search import GridSearchCV\n",
    "pd.set_option(\"max.columns\", 100)"
   ]
  },
  {
   "cell_type": "markdown",
   "metadata": {},
   "source": [
    "Load in the data set"
   ]
  },
  {
   "cell_type": "code",
   "execution_count": 5,
   "metadata": {},
   "outputs": [
    {
     "data": {
      "text/html": [
       "<div>\n",
       "<table border=\"1\" class=\"dataframe\">\n",
       "  <thead>\n",
       "    <tr style=\"text-align: right;\">\n",
       "      <th></th>\n",
       "      <th>title</th>\n",
       "      <th>text</th>\n",
       "      <th>label</th>\n",
       "    </tr>\n",
       "  </thead>\n",
       "  <tbody>\n",
       "    <tr>\n",
       "      <th>0</th>\n",
       "      <td>‘A target on Roe v. Wade ’: Oklahoma bill maki...</td>\n",
       "      <td>UPDATE: Gov. Fallin vetoed the bill on Friday....</td>\n",
       "      <td>REAL</td>\n",
       "    </tr>\n",
       "    <tr>\n",
       "      <th>1</th>\n",
       "      <td>Study: women had to drive 4 times farther afte...</td>\n",
       "      <td>Ever since Texas laws closed about half of the...</td>\n",
       "      <td>REAL</td>\n",
       "    </tr>\n",
       "    <tr>\n",
       "      <th>2</th>\n",
       "      <td>Trump, Clinton clash in dueling DC speeches</td>\n",
       "      <td>Donald Trump and Hillary Clinton, now at the s...</td>\n",
       "      <td>REAL</td>\n",
       "    </tr>\n",
       "    <tr>\n",
       "      <th>3</th>\n",
       "      <td>Grand jury in Texas indicts activists behind P...</td>\n",
       "      <td>A Houston grand jury investigating criminal al...</td>\n",
       "      <td>REAL</td>\n",
       "    </tr>\n",
       "    <tr>\n",
       "      <th>4</th>\n",
       "      <td>As Reproductive Rights Hang In The Balance, De...</td>\n",
       "      <td>WASHINGTON -- Forty-three years after the Supr...</td>\n",
       "      <td>REAL</td>\n",
       "    </tr>\n",
       "  </tbody>\n",
       "</table>\n",
       "</div>"
      ],
      "text/plain": [
       "                                               title  \\\n",
       "0  ‘A target on Roe v. Wade ’: Oklahoma bill maki...   \n",
       "1  Study: women had to drive 4 times farther afte...   \n",
       "2        Trump, Clinton clash in dueling DC speeches   \n",
       "3  Grand jury in Texas indicts activists behind P...   \n",
       "4  As Reproductive Rights Hang In The Balance, De...   \n",
       "\n",
       "                                                text label  \n",
       "0  UPDATE: Gov. Fallin vetoed the bill on Friday....  REAL  \n",
       "1  Ever since Texas laws closed about half of the...  REAL  \n",
       "2  Donald Trump and Hillary Clinton, now at the s...  REAL  \n",
       "3  A Houston grand jury investigating criminal al...  REAL  \n",
       "4  WASHINGTON -- Forty-three years after the Supr...  REAL  "
      ]
     },
     "execution_count": 5,
     "metadata": {},
     "output_type": "execute_result"
    }
   ],
   "source": [
    "df = pd.read_csv(\"fake_real_news.csv\", usecols=[\"title\",\"text\", \"label\"])\n",
    "#view data\n",
    "df.head()"
   ]
  },
  {
   "cell_type": "code",
   "execution_count": 6,
   "metadata": {},
   "outputs": [
    {
     "data": {
      "text/html": [
       "<div>\n",
       "<table border=\"1\" class=\"dataframe\">\n",
       "  <thead>\n",
       "    <tr style=\"text-align: right;\">\n",
       "      <th></th>\n",
       "      <th>title</th>\n",
       "      <th>text</th>\n",
       "      <th>label</th>\n",
       "    </tr>\n",
       "  </thead>\n",
       "  <tbody>\n",
       "    <tr>\n",
       "      <th>0</th>\n",
       "      <td>‘A target on Roe v. Wade ’: Oklahoma bill maki...</td>\n",
       "      <td>UPDATE: Gov. Fallin vetoed the bill on Friday....</td>\n",
       "      <td>REAL</td>\n",
       "    </tr>\n",
       "    <tr>\n",
       "      <th>1</th>\n",
       "      <td>Study: women had to drive 4 times farther afte...</td>\n",
       "      <td>Ever since Texas laws closed about half of the...</td>\n",
       "      <td>REAL</td>\n",
       "    </tr>\n",
       "    <tr>\n",
       "      <th>2</th>\n",
       "      <td>Trump, Clinton clash in dueling DC speeches</td>\n",
       "      <td>Donald Trump and Hillary Clinton, now at the s...</td>\n",
       "      <td>REAL</td>\n",
       "    </tr>\n",
       "    <tr>\n",
       "      <th>3</th>\n",
       "      <td>Grand jury in Texas indicts activists behind P...</td>\n",
       "      <td>A Houston grand jury investigating criminal al...</td>\n",
       "      <td>REAL</td>\n",
       "    </tr>\n",
       "    <tr>\n",
       "      <th>4</th>\n",
       "      <td>As Reproductive Rights Hang In The Balance, De...</td>\n",
       "      <td>WASHINGTON -- Forty-three years after the Supr...</td>\n",
       "      <td>REAL</td>\n",
       "    </tr>\n",
       "  </tbody>\n",
       "</table>\n",
       "</div>"
      ],
      "text/plain": [
       "                                               title  \\\n",
       "0  ‘A target on Roe v. Wade ’: Oklahoma bill maki...   \n",
       "1  Study: women had to drive 4 times farther afte...   \n",
       "2        Trump, Clinton clash in dueling DC speeches   \n",
       "3  Grand jury in Texas indicts activists behind P...   \n",
       "4  As Reproductive Rights Hang In The Balance, De...   \n",
       "\n",
       "                                                text label  \n",
       "0  UPDATE: Gov. Fallin vetoed the bill on Friday....  REAL  \n",
       "1  Ever since Texas laws closed about half of the...  REAL  \n",
       "2  Donald Trump and Hillary Clinton, now at the s...  REAL  \n",
       "3  A Houston grand jury investigating criminal al...  REAL  \n",
       "4  WASHINGTON -- Forty-three years after the Supr...  REAL  "
      ]
     },
     "execution_count": 6,
     "metadata": {},
     "output_type": "execute_result"
    }
   ],
   "source": [
    "#View tail\n",
    "df.head()"
   ]
  },
  {
   "cell_type": "code",
   "execution_count": 7,
   "metadata": {},
   "outputs": [
    {
     "name": "stdout",
     "output_type": "stream",
     "text": [
      "Charting a course for charter schools \n",
      "\n",
      "After Election Day, Democrats, Republicans and the media have some serious soul-searching to do \n",
      "\n",
      "Child dressed as ghost accused of Islamification of Halloween \n",
      "\n",
      "Turkish Government Arrests Opposition Parliament Members in Further Descent Into Dictatorship \n",
      "\n",
      "Tom Hayden, Courageous Warrior for Peace \n",
      "\n",
      "Putin being FRAMED at UN for War Crimes in Syria Explained \n",
      "\n",
      "Inside the Invisible Government; War, Propaganda, Clinton & Trump \n",
      "\n",
      "Here's why I never warmed up to Bernie Sanders \n",
      "\n",
      "RELEASE: The Podesta Emails Part 20 \n",
      "\n",
      "Wall Street And The Pentagon \n",
      "\n"
     ]
    }
   ],
   "source": [
    "#Print 10 random titles\n",
    "\n",
    "for i in df.title.sample(n= 10):\n",
    "    print i, \"\\n\""
   ]
  },
  {
   "cell_type": "code",
   "execution_count": 14,
   "metadata": {},
   "outputs": [
    {
     "name": "stdout",
     "output_type": "stream",
     "text": [
      "Hillary Clinton, even if she can secure the Democratic nomination in the coming weeks, will have to do more than just make peace with Bernie Sanders’ supporters. She’ll need to persuade his true believers they share the same goals -- and to go out and vote for her.\n",
      "\n",
      "Exit polls consistently show swaths of the Sanders base, at least right now, are uneasy about the idea of supporting Clinton in November.\n",
      "\n",
      "Republican presidential front-runner Donald Trump, in an interview with Fox News’ “Hannity,” went so far Monday as to claim Sanders’ young supporters “are going to come over to my side because they want jobs.” Trump cited common ground with Sanders on trade.\n",
      "\n",
      "Whether anti-Clinton supporters of the democratic socialist senator really would gravitate toward the billionaire businessman -- or simply stay home -- is an open question. But anticipating some bad blood, Clinton has taken the first steps toward reconciliation with Sanders supporters in recent weeks.\n",
      "\n",
      "“Whether you\n"
     ]
    }
   ],
   "source": [
    "#Print article\n",
    "\n",
    "print df.text[300][:1000]"
   ]
  },
  {
   "cell_type": "markdown",
   "metadata": {},
   "source": [
    "### The Articles\n",
    "\n",
    "- 4594 articles published between October 2015 and December 2016.\n",
    "- The \"FAKE\" articles came from this [Kaggle page.](https://www.kaggle.com/mrisdal/fake-news)\n",
    "- The \"REAL\" articles came from www.allsides.com and are from publications like New York Times, WSJ, Bloomberg, NPR, and the Guardian."
   ]
  },
  {
   "cell_type": "code",
   "execution_count": null,
   "metadata": {},
   "outputs": [],
   "source": []
  },
  {
   "cell_type": "code",
   "execution_count": null,
   "metadata": {},
   "outputs": [],
   "source": []
  },
  {
   "cell_type": "markdown",
   "metadata": {},
   "source": [
    "### Tokenizing text with count and TFIDF Vectorizers\n",
    "\n",
    "Before we can build a model, we have to turn words to numbers."
   ]
  },
  {
   "cell_type": "markdown",
   "metadata": {},
   "source": [
    "- **What:** Separate text into units such as sentences or words\n",
    "- **Why:** Gives structure to previously unstructured text\n",
    "- **Notes:** Relatively easy with English language text, not easy with some languages"
   ]
  },
  {
   "cell_type": "markdown",
   "metadata": {},
   "source": [
    "From the [scikit-learn documentation](http://scikit-learn.org/stable/modules/feature_extraction.html#text-feature-extraction):\n",
    "\n",
    "> Text Analysis is a major application field for machine learning algorithms. However the raw data, a sequence of symbols cannot be fed directly to the algorithms themselves as most of them expect **numerical feature vectors with a fixed size** rather than the **raw text documents with variable length**.\n",
    "\n",
    "We will use [CountVectorizer](http://scikit-learn.org/stable/modules/generated/sklearn.feature_extraction.text.CountVectorizer.html) to \"convert text into a matrix of token counts\":"
   ]
  },
  {
   "cell_type": "code",
   "execution_count": 15,
   "metadata": {},
   "outputs": [],
   "source": [
    "#Assign text to X variable and labels to y\n",
    "\n",
    "X = df.text\n",
    "y = df.label"
   ]
  },
  {
   "cell_type": "code",
   "execution_count": 18,
   "metadata": {},
   "outputs": [],
   "source": [
    "#Intialize Count Vectorizer\n",
    "count_vec = CountVectorizer()\n",
    "#Fit Count Vectorizer\n",
    "dtm_cv = count_vec.fit_transform(X)\n",
    "#Convert it to a pandas data frame\n",
    "df_cv = pd.DataFrame(dtm_cv.toarray(), columns=count_vec.get_feature_names())"
   ]
  },
  {
   "cell_type": "code",
   "execution_count": 19,
   "metadata": {},
   "outputs": [
    {
     "data": {
      "text/html": [
       "<div>\n",
       "<table border=\"1\" class=\"dataframe\">\n",
       "  <thead>\n",
       "    <tr style=\"text-align: right;\">\n",
       "      <th></th>\n",
       "      <th>00</th>\n",
       "      <th>000</th>\n",
       "      <th>0000</th>\n",
       "      <th>000000031</th>\n",
       "      <th>0002</th>\n",
       "      <th>000billion</th>\n",
       "      <th>000ft</th>\n",
       "      <th>000lb</th>\n",
       "      <th>000s</th>\n",
       "      <th>000th</th>\n",
       "      <th>...</th>\n",
       "      <th>إنفوجرافيك</th>\n",
       "      <th>السعودية</th>\n",
       "      <th>النيرب</th>\n",
       "      <th>عربي</th>\n",
       "      <th>ಠ_ಠ</th>\n",
       "      <th>ḥaram</th>\n",
       "      <th>不動心</th>\n",
       "      <th>初心</th>\n",
       "      <th>残心</th>\n",
       "      <th>無心</th>\n",
       "    </tr>\n",
       "  </thead>\n",
       "  <tbody>\n",
       "    <tr>\n",
       "      <th>0</th>\n",
       "      <td>0</td>\n",
       "      <td>0</td>\n",
       "      <td>0</td>\n",
       "      <td>0</td>\n",
       "      <td>0</td>\n",
       "      <td>0</td>\n",
       "      <td>0</td>\n",
       "      <td>0</td>\n",
       "      <td>0</td>\n",
       "      <td>0</td>\n",
       "      <td>...</td>\n",
       "      <td>0</td>\n",
       "      <td>0</td>\n",
       "      <td>0</td>\n",
       "      <td>0</td>\n",
       "      <td>0</td>\n",
       "      <td>0</td>\n",
       "      <td>0</td>\n",
       "      <td>0</td>\n",
       "      <td>0</td>\n",
       "      <td>0</td>\n",
       "    </tr>\n",
       "    <tr>\n",
       "      <th>1</th>\n",
       "      <td>0</td>\n",
       "      <td>0</td>\n",
       "      <td>0</td>\n",
       "      <td>0</td>\n",
       "      <td>0</td>\n",
       "      <td>0</td>\n",
       "      <td>0</td>\n",
       "      <td>0</td>\n",
       "      <td>0</td>\n",
       "      <td>0</td>\n",
       "      <td>...</td>\n",
       "      <td>0</td>\n",
       "      <td>0</td>\n",
       "      <td>0</td>\n",
       "      <td>0</td>\n",
       "      <td>0</td>\n",
       "      <td>0</td>\n",
       "      <td>0</td>\n",
       "      <td>0</td>\n",
       "      <td>0</td>\n",
       "      <td>0</td>\n",
       "    </tr>\n",
       "    <tr>\n",
       "      <th>2</th>\n",
       "      <td>0</td>\n",
       "      <td>0</td>\n",
       "      <td>0</td>\n",
       "      <td>0</td>\n",
       "      <td>0</td>\n",
       "      <td>0</td>\n",
       "      <td>0</td>\n",
       "      <td>0</td>\n",
       "      <td>0</td>\n",
       "      <td>0</td>\n",
       "      <td>...</td>\n",
       "      <td>0</td>\n",
       "      <td>0</td>\n",
       "      <td>0</td>\n",
       "      <td>0</td>\n",
       "      <td>0</td>\n",
       "      <td>0</td>\n",
       "      <td>0</td>\n",
       "      <td>0</td>\n",
       "      <td>0</td>\n",
       "      <td>0</td>\n",
       "    </tr>\n",
       "    <tr>\n",
       "      <th>3</th>\n",
       "      <td>0</td>\n",
       "      <td>0</td>\n",
       "      <td>0</td>\n",
       "      <td>0</td>\n",
       "      <td>0</td>\n",
       "      <td>0</td>\n",
       "      <td>0</td>\n",
       "      <td>0</td>\n",
       "      <td>0</td>\n",
       "      <td>0</td>\n",
       "      <td>...</td>\n",
       "      <td>0</td>\n",
       "      <td>0</td>\n",
       "      <td>0</td>\n",
       "      <td>0</td>\n",
       "      <td>0</td>\n",
       "      <td>0</td>\n",
       "      <td>0</td>\n",
       "      <td>0</td>\n",
       "      <td>0</td>\n",
       "      <td>0</td>\n",
       "    </tr>\n",
       "    <tr>\n",
       "      <th>4</th>\n",
       "      <td>0</td>\n",
       "      <td>0</td>\n",
       "      <td>0</td>\n",
       "      <td>0</td>\n",
       "      <td>0</td>\n",
       "      <td>0</td>\n",
       "      <td>0</td>\n",
       "      <td>0</td>\n",
       "      <td>0</td>\n",
       "      <td>0</td>\n",
       "      <td>...</td>\n",
       "      <td>0</td>\n",
       "      <td>0</td>\n",
       "      <td>0</td>\n",
       "      <td>0</td>\n",
       "      <td>0</td>\n",
       "      <td>0</td>\n",
       "      <td>0</td>\n",
       "      <td>0</td>\n",
       "      <td>0</td>\n",
       "      <td>0</td>\n",
       "    </tr>\n",
       "  </tbody>\n",
       "</table>\n",
       "<p>5 rows × 57535 columns</p>\n",
       "</div>"
      ],
      "text/plain": [
       "   00  000  0000  000000031  0002  000billion  000ft  000lb  000s  000th ...  \\\n",
       "0   0    0     0          0     0           0      0      0     0      0 ...   \n",
       "1   0    0     0          0     0           0      0      0     0      0 ...   \n",
       "2   0    0     0          0     0           0      0      0     0      0 ...   \n",
       "3   0    0     0          0     0           0      0      0     0      0 ...   \n",
       "4   0    0     0          0     0           0      0      0     0      0 ...   \n",
       "\n",
       "   إنفوجرافيك  السعودية  النيرب  عربي  ಠ_ಠ  ḥaram  不動心  初心  残心  無心  \n",
       "0           0         0       0     0    0      0    0   0   0   0  \n",
       "1           0         0       0     0    0      0    0   0   0   0  \n",
       "2           0         0       0     0    0      0    0   0   0   0  \n",
       "3           0         0       0     0    0      0    0   0   0   0  \n",
       "4           0         0       0     0    0      0    0   0   0   0  \n",
       "\n",
       "[5 rows x 57535 columns]"
      ]
     },
     "execution_count": 19,
     "metadata": {},
     "output_type": "execute_result"
    }
   ],
   "source": [
    "#Look at df_cv\n",
    "df_cv.head()"
   ]
  },
  {
   "cell_type": "code",
   "execution_count": 22,
   "metadata": {},
   "outputs": [
    {
     "data": {
      "text/plain": [
       "(4594, 57535)"
      ]
     },
     "execution_count": 22,
     "metadata": {},
     "output_type": "execute_result"
    }
   ],
   "source": [
    "#How big is data\n",
    "df_cv.shape"
   ]
  },
  {
   "cell_type": "code",
   "execution_count": 21,
   "metadata": {},
   "outputs": [
    {
     "name": "stdout",
     "output_type": "stream",
     "text": [
      "[u'00', u'000', u'0000', u'000000031', u'0002', u'000billion', u'000ft', u'000lb', u'000s', u'000th', u'001', u'002', u'003', u'004', u'005', u'006', u'00684', u'006s', u'007', u'008s', u'009', u'00am', u'00p', u'00pm', u'01', u'010', u'011', u'013', u'014', u'018', u'01pm', u'02', u'020', u'022', u'023', u'0235', u'024', u'025', u'026', u'027', u'028', u'029', u'02welcome', u'03', u'0325', u'033', u'039', u'04', u'040', u'042', u'047', u'048', u'049', u'04am', u'05', u'050', u'0500', u'056', u'057', u'059', u'06', u'0600', u'063', u'066', u'068', u'069', u'06quito2150', u'06quito2991', u'07', u'070', u'071', u'075', u'076', u'077', u'08', u'080', u'0800', u'080225_michelle_obama', u'081', u'084', u'0843', u'085', u'087', u'088da582', u'089', u'0891', u'09', u'090', u'093', u'094', u'095', u'097', u'098', u'09am', u'09pm', u'0_13ddwv4e', u'0_qfc5sn0k', u'0aza8', u'0b6njlny5j', u'0eb2fe42e57d']\n"
     ]
    }
   ],
   "source": [
    "#Print first 100 feature names\n",
    "print(count_vec.get_feature_names()[:100])"
   ]
  },
  {
   "cell_type": "code",
   "execution_count": 23,
   "metadata": {},
   "outputs": [
    {
     "name": "stdout",
     "output_type": "stream",
     "text": [
      "[u'exude', u'exuded', u'exudes', u'exuding', u'exult', u'exurb', u'exurban', u'exurbs', u'exxon', u'exxonmobil', u'exxtraterrestrials', u'eye', u'eyeballs', u'eyebrow', u'eyebrows', u'eyed', u'eyeglasses', u'eyeing', u'eyelash', u'eyeless', u'eyelids', u'eyeopening', u'eyes', u'eyesight', u'eyewitness', u'eyewitnesses', u'eying', u'eyoel', u'eytan', u'ez', u'ez12', u'ezer', u'ezra', u'ezz7xqbj6e', u'ezzor', u'f1', u'f11', u'f16', u'f35', u'f4', u'f5', u'f86', u'f__king', u'faa', u'fab', u'fabian', u'fabienne', u'fabio', u'fable', u'fabled', u'fabric', u'fabricate', u'fabricated', u'fabricating', u'fabrication', u'fabrications', u'fabricator', u'fabrics', u'fabrikant', u'fabrizio', u'fabulist', u'fabulous', u'fabulously', u'facade', u'facades', u'face', u'facebook', u'facebooks', u'faced', u'faceless', u'faceoff', u'faceoffs', u'faces', u'facet', u'faceted', u'facetime', u'facetiming', u'facetious', u'facets', u'facial', u'facials', u'facie', u'facile', u'facilitate', u'facilitated', u'facilitates', u'facilitating', u'facilitation', u'facilitator', u'facilitators', u'facilities', u'facility', u'facing', u'facist', u'fackler', u'facsimile', u'fact', u'factbook', u'factcheck', u'factchecking', u'faction', u'factional', u'factionalism', u'factions', u'factions\\xe2', u'factless', u'factly', u'factness', u'facto', u'factoid', u'factoids', u'factor', u'factored', u'factories', u'factoring', u'factors', u'factory', u'factotums', u'facts', u'factsordie', u'factual', u'factually', u'faculties', u'faculty', u'fad', u'fadavi', u'fade', u'faded', u'fades', u'fadhil', u'fadhli', u'fadi', u'fading', u'fadli', u'faeces', u'faelschung', u'faers', u'fagan', u'fagen', u'faggot', u'faggots', u'fagnan', u'fahad', u'fahd', u'fahrenheit', u'fahrenkopf', u'fahrenthold', u'fail', u'failed', u'failing', u'failings', u'fails', u'failsafe', u'failure', u'failures', u'faint', u'fainted', u'faintest', u'fainting', u'faintly', u'faiola', u'fair', u'fairbanks', u'fairborn', u'fairchild', u'faire', u'fairer', u'fairest', u'fairewinds', u'fairfax', u'fairgoer', u'fairground', u'fairgrounds', u'fairies', u'fairleigh', u'fairly', u'fairness', u'fairs', u'fairview', u'fairy', u'fairytale', u'faisal', u'fait', u'faith', u'faithful', u'faithfully', u'faithfulness', u'faithless', u'faiths', u'faits', u'faiz', u'fake', u'fake_luftangriff_syrien_faelschung_rfa', u'faked', u'fakeness', u'fakeprotests', u'faker', u'fakers', u'fakery', u'fakest']\n"
     ]
    }
   ],
   "source": [
    "#Print random slice of feature names\n",
    "print(count_vec.get_feature_names()[19000:19200])"
   ]
  },
  {
   "cell_type": "markdown",
   "metadata": {},
   "source": [
    "Let's configure out count vectorizer"
   ]
  },
  {
   "cell_type": "markdown",
   "metadata": {},
   "source": [
    "- **lowercase:** boolean, True by default\n",
    "- Convert all characters to lowercase before tokenizing."
   ]
  },
  {
   "cell_type": "markdown",
   "metadata": {},
   "source": [
    "- **ngram_range:** tuple (min_n, max_n)\n",
    "- The lower and upper boundary of the range of n-values for different n-grams to be extracted. All values of n such that min_n <= n <= max_n will be used."
   ]
  },
  {
   "cell_type": "markdown",
   "metadata": {},
   "source": [
    "- <b>stop_words</b> : string {‘english’}, list, or None (default)\n",
    "- If ‘english’, a built-in stop word list for English is used.\n",
    "- If a list, that list is assumed to contain stop words, all of which will be removed from the resulting tokens. Only applies if analyzer == 'word'.\n",
    "- If None, no stop words will be used. max_df can be set to a value in the range [0.7, 1.0) to automatically detect and filter stop words based on intra corpus document frequency of terms."
   ]
  },
  {
   "cell_type": "markdown",
   "metadata": {},
   "source": [
    "- **max_features:** int or None, default=None\n",
    "- If not None, build a vocabulary that only consider the top max_features ordered by term frequency across the corpus."
   ]
  },
  {
   "cell_type": "markdown",
   "metadata": {},
   "source": [
    "- **min_df:** float in range [0.0, 1.0] or int, default=1\n",
    "- When building the vocabulary ignore terms that have a document frequency strictly lower than the given threshold. This value is also called cut-off in the literature. If float, the parameter represents a proportion of documents, integer absolute counts."
   ]
  },
  {
   "cell_type": "markdown",
   "metadata": {},
   "source": [
    "Train a Count Vectorizer with lowercase words, includes words and two-word phrases, filters out stop words, and only uses words that show up at least 3 times."
   ]
  },
  {
   "cell_type": "code",
   "execution_count": 24,
   "metadata": {},
   "outputs": [],
   "source": [
    "#Intialize Count Vectorizer\n",
    "count_vec = CountVectorizer(lowercase=True, stop_words=\"english\", ngram_range=(1,2),\n",
    "                           min_df = 3)\n",
    "#Fit Count Vectorizer\n",
    "dtm_cv = count_vec.fit_transform(X)\n",
    "#Convert it to a pandas data frame\n",
    "df_cv = pd.DataFrame(dtm_cv.toarray(), columns=count_vec.get_feature_names())"
   ]
  },
  {
   "cell_type": "code",
   "execution_count": 25,
   "metadata": {},
   "outputs": [
    {
     "data": {
      "text/html": [
       "<div>\n",
       "<table border=\"1\" class=\"dataframe\">\n",
       "  <thead>\n",
       "    <tr style=\"text-align: right;\">\n",
       "      <th></th>\n",
       "      <th>00</th>\n",
       "      <th>00 00</th>\n",
       "      <th>00 pm</th>\n",
       "      <th>000</th>\n",
       "      <th>000 000</th>\n",
       "      <th>000 100</th>\n",
       "      <th>000 15</th>\n",
       "      <th>000 20</th>\n",
       "      <th>000 2008</th>\n",
       "      <th>000 2010</th>\n",
       "      <th>...</th>\n",
       "      <th>zuckerberg team</th>\n",
       "      <th>zucman</th>\n",
       "      <th>zuesse</th>\n",
       "      <th>zuesse eric</th>\n",
       "      <th>zuesse november</th>\n",
       "      <th>zwick</th>\n",
       "      <th>zwick romney</th>\n",
       "      <th>état</th>\n",
       "      <th>être</th>\n",
       "      <th>être stone</th>\n",
       "    </tr>\n",
       "  </thead>\n",
       "  <tbody>\n",
       "    <tr>\n",
       "      <th>0</th>\n",
       "      <td>0</td>\n",
       "      <td>0</td>\n",
       "      <td>0</td>\n",
       "      <td>0</td>\n",
       "      <td>0</td>\n",
       "      <td>0</td>\n",
       "      <td>0</td>\n",
       "      <td>0</td>\n",
       "      <td>0</td>\n",
       "      <td>0</td>\n",
       "      <td>...</td>\n",
       "      <td>0</td>\n",
       "      <td>0</td>\n",
       "      <td>0</td>\n",
       "      <td>0</td>\n",
       "      <td>0</td>\n",
       "      <td>0</td>\n",
       "      <td>0</td>\n",
       "      <td>0</td>\n",
       "      <td>0</td>\n",
       "      <td>0</td>\n",
       "    </tr>\n",
       "    <tr>\n",
       "      <th>1</th>\n",
       "      <td>0</td>\n",
       "      <td>0</td>\n",
       "      <td>0</td>\n",
       "      <td>0</td>\n",
       "      <td>0</td>\n",
       "      <td>0</td>\n",
       "      <td>0</td>\n",
       "      <td>0</td>\n",
       "      <td>0</td>\n",
       "      <td>0</td>\n",
       "      <td>...</td>\n",
       "      <td>0</td>\n",
       "      <td>0</td>\n",
       "      <td>0</td>\n",
       "      <td>0</td>\n",
       "      <td>0</td>\n",
       "      <td>0</td>\n",
       "      <td>0</td>\n",
       "      <td>0</td>\n",
       "      <td>0</td>\n",
       "      <td>0</td>\n",
       "    </tr>\n",
       "    <tr>\n",
       "      <th>2</th>\n",
       "      <td>0</td>\n",
       "      <td>0</td>\n",
       "      <td>0</td>\n",
       "      <td>0</td>\n",
       "      <td>0</td>\n",
       "      <td>0</td>\n",
       "      <td>0</td>\n",
       "      <td>0</td>\n",
       "      <td>0</td>\n",
       "      <td>0</td>\n",
       "      <td>...</td>\n",
       "      <td>0</td>\n",
       "      <td>0</td>\n",
       "      <td>0</td>\n",
       "      <td>0</td>\n",
       "      <td>0</td>\n",
       "      <td>0</td>\n",
       "      <td>0</td>\n",
       "      <td>0</td>\n",
       "      <td>0</td>\n",
       "      <td>0</td>\n",
       "    </tr>\n",
       "    <tr>\n",
       "      <th>3</th>\n",
       "      <td>0</td>\n",
       "      <td>0</td>\n",
       "      <td>0</td>\n",
       "      <td>0</td>\n",
       "      <td>0</td>\n",
       "      <td>0</td>\n",
       "      <td>0</td>\n",
       "      <td>0</td>\n",
       "      <td>0</td>\n",
       "      <td>0</td>\n",
       "      <td>...</td>\n",
       "      <td>0</td>\n",
       "      <td>0</td>\n",
       "      <td>0</td>\n",
       "      <td>0</td>\n",
       "      <td>0</td>\n",
       "      <td>0</td>\n",
       "      <td>0</td>\n",
       "      <td>0</td>\n",
       "      <td>0</td>\n",
       "      <td>0</td>\n",
       "    </tr>\n",
       "    <tr>\n",
       "      <th>4</th>\n",
       "      <td>0</td>\n",
       "      <td>0</td>\n",
       "      <td>0</td>\n",
       "      <td>0</td>\n",
       "      <td>0</td>\n",
       "      <td>0</td>\n",
       "      <td>0</td>\n",
       "      <td>0</td>\n",
       "      <td>0</td>\n",
       "      <td>0</td>\n",
       "      <td>...</td>\n",
       "      <td>0</td>\n",
       "      <td>0</td>\n",
       "      <td>0</td>\n",
       "      <td>0</td>\n",
       "      <td>0</td>\n",
       "      <td>0</td>\n",
       "      <td>0</td>\n",
       "      <td>0</td>\n",
       "      <td>0</td>\n",
       "      <td>0</td>\n",
       "    </tr>\n",
       "  </tbody>\n",
       "</table>\n",
       "<p>5 rows × 117425 columns</p>\n",
       "</div>"
      ],
      "text/plain": [
       "   00  00 00  00 pm  000  000 000  000 100  000 15  000 20  000 2008  \\\n",
       "0   0      0      0    0        0        0       0       0         0   \n",
       "1   0      0      0    0        0        0       0       0         0   \n",
       "2   0      0      0    0        0        0       0       0         0   \n",
       "3   0      0      0    0        0        0       0       0         0   \n",
       "4   0      0      0    0        0        0       0       0         0   \n",
       "\n",
       "   000 2010     ...      zuckerberg team  zucman  zuesse  zuesse eric  \\\n",
       "0         0     ...                    0       0       0            0   \n",
       "1         0     ...                    0       0       0            0   \n",
       "2         0     ...                    0       0       0            0   \n",
       "3         0     ...                    0       0       0            0   \n",
       "4         0     ...                    0       0       0            0   \n",
       "\n",
       "   zuesse november  zwick  zwick romney  état  être  être stone  \n",
       "0                0      0             0     0     0           0  \n",
       "1                0      0             0     0     0           0  \n",
       "2                0      0             0     0     0           0  \n",
       "3                0      0             0     0     0           0  \n",
       "4                0      0             0     0     0           0  \n",
       "\n",
       "[5 rows x 117425 columns]"
      ]
     },
     "execution_count": 25,
     "metadata": {},
     "output_type": "execute_result"
    }
   ],
   "source": [
    "#Look at data\n",
    "df_cv.head()"
   ]
  },
  {
   "cell_type": "code",
   "execution_count": 26,
   "metadata": {},
   "outputs": [
    {
     "name": "stdout",
     "output_type": "stream",
     "text": [
      "[u'promoting clinton', u'promoting false', u'promoting reveling', u'promoting violence', u'promotion', u'promotional', u'prompt', u'prompted', u'prompted boos', u'prompted fbi', u'prompting', u'prompting accusations', u'prompting clinton', u'prompting trump', u'promptly', u'prompts', u'prompts new', u'prone', u'prone violence', u'pronged', u'pronged attack', u'pronoun', u'pronounce', u'pronounced', u'pronounced scalia', u'pronouncement', u'pronouncements', u'pronouncing', u'pronunciation', u'proof', u'proof contrary', u'proof russian', u'proofs', u'prop', u'propaganda', u'propaganda arm', u'propaganda campaign', u'propaganda clinton', u'propaganda films', u'propaganda insinuate', u'propaganda intention', u'propaganda lies', u'propaganda machine', u'propaganda mainstream', u'propaganda media', u'propaganda ministry', u'propaganda nephew', u'propaganda network', u'propaganda subscribe', u'propaganda use', u'propaganda world', u'propagandist', u'propagandistic', u'propagandists', u'propagate', u'propagation', u'propel', u'propel trump', u'propel victory', u'propelled', u'propelling', u'propensity', u'proper', u'proper attribution', u'proper documentation', u'proper role', u'proper way', u'properly', u'properly licensed', u'properly understand', u'properties', u'property', u'property copy', u'property crime', u'property damage', u'property elderly', u'property including', u'property owners', u'property rights', u'property tax', u'prophecies', u'prophecy', u'prophecy college', u'prophet', u'prophet cia', u'prophet imam', u'prophetic', u'prophets', u'proponent', u'proponents', u'proportion', u'proportional', u'proportional allocation', u'proportional basis', u'proportionally', u'proportionally according', u'proportionally based', u'proportionally sanders', u'proportionately', u'proportions']\n"
     ]
    }
   ],
   "source": [
    "#Look at random slice of features\n",
    "print(count_vec.get_feature_names()[80000:80100])"
   ]
  },
  {
   "cell_type": "markdown",
   "metadata": {},
   "source": [
    "Time for TFIDF Vectorizer"
   ]
  },
  {
   "cell_type": "markdown",
   "metadata": {},
   "source": [
    "- **What:** Computes \"relative frequency\" that a word appears in a document compared to its frequency across all documents\n",
    "- **Why:** More useful than \"term frequency\" for identifying \"important\" words in each document (high frequency in that document, low frequency in other documents)\n",
    "- **Notes:** Used for search engine scoring, text summarization, document clustering"
   ]
  },
  {
   "cell_type": "code",
   "execution_count": 39,
   "metadata": {},
   "outputs": [],
   "source": [
    "#Intialize TFIDF Vectorizer\n",
    "tf_vec = TfidfVectorizer()\n",
    "#Fit TFIDF Vectorizer\n",
    "dtm_tf = tf_vec.fit_transform(X)\n",
    "#Convert it to a pandas data frame\n",
    "df_tf = pd.DataFrame(dtm_tf.toarray(), columns=tf_vec.get_feature_names())"
   ]
  },
  {
   "cell_type": "code",
   "execution_count": 45,
   "metadata": {},
   "outputs": [
    {
     "data": {
      "text/html": [
       "<div>\n",
       "<table border=\"1\" class=\"dataframe\">\n",
       "  <thead>\n",
       "    <tr style=\"text-align: right;\">\n",
       "      <th></th>\n",
       "      <th>00</th>\n",
       "      <th>000</th>\n",
       "      <th>0000</th>\n",
       "      <th>000000031</th>\n",
       "      <th>0002</th>\n",
       "      <th>000billion</th>\n",
       "      <th>000ft</th>\n",
       "      <th>000lb</th>\n",
       "      <th>000s</th>\n",
       "      <th>000th</th>\n",
       "      <th>001</th>\n",
       "      <th>002</th>\n",
       "      <th>003</th>\n",
       "      <th>004</th>\n",
       "      <th>005</th>\n",
       "      <th>006</th>\n",
       "      <th>00684</th>\n",
       "      <th>006s</th>\n",
       "      <th>007</th>\n",
       "      <th>008s</th>\n",
       "      <th>009</th>\n",
       "      <th>00am</th>\n",
       "      <th>00p</th>\n",
       "      <th>00pm</th>\n",
       "      <th>01</th>\n",
       "      <th>010</th>\n",
       "      <th>011</th>\n",
       "      <th>013</th>\n",
       "      <th>014</th>\n",
       "      <th>018</th>\n",
       "      <th>01pm</th>\n",
       "      <th>02</th>\n",
       "      <th>020</th>\n",
       "      <th>022</th>\n",
       "      <th>023</th>\n",
       "      <th>0235</th>\n",
       "      <th>024</th>\n",
       "      <th>025</th>\n",
       "      <th>026</th>\n",
       "      <th>027</th>\n",
       "      <th>028</th>\n",
       "      <th>029</th>\n",
       "      <th>02welcome</th>\n",
       "      <th>03</th>\n",
       "      <th>0325</th>\n",
       "      <th>033</th>\n",
       "      <th>039</th>\n",
       "      <th>04</th>\n",
       "      <th>040</th>\n",
       "      <th>042</th>\n",
       "      <th>...</th>\n",
       "      <th>œif</th>\n",
       "      <th>œiâ</th>\n",
       "      <th>œlord</th>\n",
       "      <th>œmafia</th>\n",
       "      <th>œmaster</th>\n",
       "      <th>œmid</th>\n",
       "      <th>œmysterious</th>\n",
       "      <th>œnew</th>\n",
       "      <th>œno</th>\n",
       "      <th>œpuppet</th>\n",
       "      <th>œreceiving</th>\n",
       "      <th>œshadow</th>\n",
       "      <th>œsuddenly</th>\n",
       "      <th>œterror</th>\n",
       "      <th>œtheyâ</th>\n",
       "      <th>œurgent</th>\n",
       "      <th>œwe</th>\n",
       "      <th>œwhoa</th>\n",
       "      <th>œworry</th>\n",
       "      <th>œwow</th>\n",
       "      <th>œyou</th>\n",
       "      <th>œâ</th>\n",
       "      <th>śâ</th>\n",
       "      <th>şđ</th>\n",
       "      <th>šćepanović</th>\n",
       "      <th>ź4</th>\n",
       "      <th>ź50</th>\n",
       "      <th>željko</th>\n",
       "      <th>δ18o</th>\n",
       "      <th>грозный</th>\n",
       "      <th>минобороны</th>\n",
       "      <th>окт</th>\n",
       "      <th>опубликовано</th>\n",
       "      <th>россии</th>\n",
       "      <th>ужасный</th>\n",
       "      <th>фото</th>\n",
       "      <th>эa</th>\n",
       "      <th>эin</th>\n",
       "      <th>эthe</th>\n",
       "      <th>яркий</th>\n",
       "      <th>إنفوجرافيك</th>\n",
       "      <th>السعودية</th>\n",
       "      <th>النيرب</th>\n",
       "      <th>عربي</th>\n",
       "      <th>ಠ_ಠ</th>\n",
       "      <th>ḥaram</th>\n",
       "      <th>不動心</th>\n",
       "      <th>初心</th>\n",
       "      <th>残心</th>\n",
       "      <th>無心</th>\n",
       "    </tr>\n",
       "  </thead>\n",
       "  <tbody>\n",
       "    <tr>\n",
       "      <th>0</th>\n",
       "      <td>0.0</td>\n",
       "      <td>0.0</td>\n",
       "      <td>0.0</td>\n",
       "      <td>0.0</td>\n",
       "      <td>0.0</td>\n",
       "      <td>0.0</td>\n",
       "      <td>0.0</td>\n",
       "      <td>0.0</td>\n",
       "      <td>0.0</td>\n",
       "      <td>0.0</td>\n",
       "      <td>0.0</td>\n",
       "      <td>0.0</td>\n",
       "      <td>0.0</td>\n",
       "      <td>0.0</td>\n",
       "      <td>0.0</td>\n",
       "      <td>0.0</td>\n",
       "      <td>0.0</td>\n",
       "      <td>0.0</td>\n",
       "      <td>0.0</td>\n",
       "      <td>0.0</td>\n",
       "      <td>0.0</td>\n",
       "      <td>0.0</td>\n",
       "      <td>0.0</td>\n",
       "      <td>0.0</td>\n",
       "      <td>0.0</td>\n",
       "      <td>0.0</td>\n",
       "      <td>0.0</td>\n",
       "      <td>0.0</td>\n",
       "      <td>0.0</td>\n",
       "      <td>0.0</td>\n",
       "      <td>0.0</td>\n",
       "      <td>0.0</td>\n",
       "      <td>0.0</td>\n",
       "      <td>0.0</td>\n",
       "      <td>0.0</td>\n",
       "      <td>0.0</td>\n",
       "      <td>0.0</td>\n",
       "      <td>0.0</td>\n",
       "      <td>0.0</td>\n",
       "      <td>0.0</td>\n",
       "      <td>0.0</td>\n",
       "      <td>0.0</td>\n",
       "      <td>0.0</td>\n",
       "      <td>0.0</td>\n",
       "      <td>0.0</td>\n",
       "      <td>0.0</td>\n",
       "      <td>0.0</td>\n",
       "      <td>0.0</td>\n",
       "      <td>0.0</td>\n",
       "      <td>0.0</td>\n",
       "      <td>...</td>\n",
       "      <td>0.0</td>\n",
       "      <td>0.0</td>\n",
       "      <td>0.0</td>\n",
       "      <td>0.0</td>\n",
       "      <td>0.0</td>\n",
       "      <td>0.0</td>\n",
       "      <td>0.0</td>\n",
       "      <td>0.0</td>\n",
       "      <td>0.0</td>\n",
       "      <td>0.0</td>\n",
       "      <td>0.0</td>\n",
       "      <td>0.0</td>\n",
       "      <td>0.0</td>\n",
       "      <td>0.0</td>\n",
       "      <td>0.0</td>\n",
       "      <td>0.0</td>\n",
       "      <td>0.0</td>\n",
       "      <td>0.0</td>\n",
       "      <td>0.0</td>\n",
       "      <td>0.0</td>\n",
       "      <td>0.0</td>\n",
       "      <td>0.0</td>\n",
       "      <td>0.0</td>\n",
       "      <td>0.0</td>\n",
       "      <td>0.0</td>\n",
       "      <td>0.0</td>\n",
       "      <td>0.0</td>\n",
       "      <td>0.0</td>\n",
       "      <td>0.0</td>\n",
       "      <td>0.0</td>\n",
       "      <td>0.0</td>\n",
       "      <td>0.0</td>\n",
       "      <td>0.0</td>\n",
       "      <td>0.0</td>\n",
       "      <td>0.0</td>\n",
       "      <td>0.0</td>\n",
       "      <td>0.0</td>\n",
       "      <td>0.0</td>\n",
       "      <td>0.0</td>\n",
       "      <td>0.0</td>\n",
       "      <td>0.0</td>\n",
       "      <td>0.0</td>\n",
       "      <td>0.0</td>\n",
       "      <td>0.0</td>\n",
       "      <td>0.0</td>\n",
       "      <td>0.0</td>\n",
       "      <td>0.0</td>\n",
       "      <td>0.0</td>\n",
       "      <td>0.0</td>\n",
       "      <td>0.0</td>\n",
       "    </tr>\n",
       "    <tr>\n",
       "      <th>1</th>\n",
       "      <td>0.0</td>\n",
       "      <td>0.0</td>\n",
       "      <td>0.0</td>\n",
       "      <td>0.0</td>\n",
       "      <td>0.0</td>\n",
       "      <td>0.0</td>\n",
       "      <td>0.0</td>\n",
       "      <td>0.0</td>\n",
       "      <td>0.0</td>\n",
       "      <td>0.0</td>\n",
       "      <td>0.0</td>\n",
       "      <td>0.0</td>\n",
       "      <td>0.0</td>\n",
       "      <td>0.0</td>\n",
       "      <td>0.0</td>\n",
       "      <td>0.0</td>\n",
       "      <td>0.0</td>\n",
       "      <td>0.0</td>\n",
       "      <td>0.0</td>\n",
       "      <td>0.0</td>\n",
       "      <td>0.0</td>\n",
       "      <td>0.0</td>\n",
       "      <td>0.0</td>\n",
       "      <td>0.0</td>\n",
       "      <td>0.0</td>\n",
       "      <td>0.0</td>\n",
       "      <td>0.0</td>\n",
       "      <td>0.0</td>\n",
       "      <td>0.0</td>\n",
       "      <td>0.0</td>\n",
       "      <td>0.0</td>\n",
       "      <td>0.0</td>\n",
       "      <td>0.0</td>\n",
       "      <td>0.0</td>\n",
       "      <td>0.0</td>\n",
       "      <td>0.0</td>\n",
       "      <td>0.0</td>\n",
       "      <td>0.0</td>\n",
       "      <td>0.0</td>\n",
       "      <td>0.0</td>\n",
       "      <td>0.0</td>\n",
       "      <td>0.0</td>\n",
       "      <td>0.0</td>\n",
       "      <td>0.0</td>\n",
       "      <td>0.0</td>\n",
       "      <td>0.0</td>\n",
       "      <td>0.0</td>\n",
       "      <td>0.0</td>\n",
       "      <td>0.0</td>\n",
       "      <td>0.0</td>\n",
       "      <td>...</td>\n",
       "      <td>0.0</td>\n",
       "      <td>0.0</td>\n",
       "      <td>0.0</td>\n",
       "      <td>0.0</td>\n",
       "      <td>0.0</td>\n",
       "      <td>0.0</td>\n",
       "      <td>0.0</td>\n",
       "      <td>0.0</td>\n",
       "      <td>0.0</td>\n",
       "      <td>0.0</td>\n",
       "      <td>0.0</td>\n",
       "      <td>0.0</td>\n",
       "      <td>0.0</td>\n",
       "      <td>0.0</td>\n",
       "      <td>0.0</td>\n",
       "      <td>0.0</td>\n",
       "      <td>0.0</td>\n",
       "      <td>0.0</td>\n",
       "      <td>0.0</td>\n",
       "      <td>0.0</td>\n",
       "      <td>0.0</td>\n",
       "      <td>0.0</td>\n",
       "      <td>0.0</td>\n",
       "      <td>0.0</td>\n",
       "      <td>0.0</td>\n",
       "      <td>0.0</td>\n",
       "      <td>0.0</td>\n",
       "      <td>0.0</td>\n",
       "      <td>0.0</td>\n",
       "      <td>0.0</td>\n",
       "      <td>0.0</td>\n",
       "      <td>0.0</td>\n",
       "      <td>0.0</td>\n",
       "      <td>0.0</td>\n",
       "      <td>0.0</td>\n",
       "      <td>0.0</td>\n",
       "      <td>0.0</td>\n",
       "      <td>0.0</td>\n",
       "      <td>0.0</td>\n",
       "      <td>0.0</td>\n",
       "      <td>0.0</td>\n",
       "      <td>0.0</td>\n",
       "      <td>0.0</td>\n",
       "      <td>0.0</td>\n",
       "      <td>0.0</td>\n",
       "      <td>0.0</td>\n",
       "      <td>0.0</td>\n",
       "      <td>0.0</td>\n",
       "      <td>0.0</td>\n",
       "      <td>0.0</td>\n",
       "    </tr>\n",
       "    <tr>\n",
       "      <th>2</th>\n",
       "      <td>0.0</td>\n",
       "      <td>0.0</td>\n",
       "      <td>0.0</td>\n",
       "      <td>0.0</td>\n",
       "      <td>0.0</td>\n",
       "      <td>0.0</td>\n",
       "      <td>0.0</td>\n",
       "      <td>0.0</td>\n",
       "      <td>0.0</td>\n",
       "      <td>0.0</td>\n",
       "      <td>0.0</td>\n",
       "      <td>0.0</td>\n",
       "      <td>0.0</td>\n",
       "      <td>0.0</td>\n",
       "      <td>0.0</td>\n",
       "      <td>0.0</td>\n",
       "      <td>0.0</td>\n",
       "      <td>0.0</td>\n",
       "      <td>0.0</td>\n",
       "      <td>0.0</td>\n",
       "      <td>0.0</td>\n",
       "      <td>0.0</td>\n",
       "      <td>0.0</td>\n",
       "      <td>0.0</td>\n",
       "      <td>0.0</td>\n",
       "      <td>0.0</td>\n",
       "      <td>0.0</td>\n",
       "      <td>0.0</td>\n",
       "      <td>0.0</td>\n",
       "      <td>0.0</td>\n",
       "      <td>0.0</td>\n",
       "      <td>0.0</td>\n",
       "      <td>0.0</td>\n",
       "      <td>0.0</td>\n",
       "      <td>0.0</td>\n",
       "      <td>0.0</td>\n",
       "      <td>0.0</td>\n",
       "      <td>0.0</td>\n",
       "      <td>0.0</td>\n",
       "      <td>0.0</td>\n",
       "      <td>0.0</td>\n",
       "      <td>0.0</td>\n",
       "      <td>0.0</td>\n",
       "      <td>0.0</td>\n",
       "      <td>0.0</td>\n",
       "      <td>0.0</td>\n",
       "      <td>0.0</td>\n",
       "      <td>0.0</td>\n",
       "      <td>0.0</td>\n",
       "      <td>0.0</td>\n",
       "      <td>...</td>\n",
       "      <td>0.0</td>\n",
       "      <td>0.0</td>\n",
       "      <td>0.0</td>\n",
       "      <td>0.0</td>\n",
       "      <td>0.0</td>\n",
       "      <td>0.0</td>\n",
       "      <td>0.0</td>\n",
       "      <td>0.0</td>\n",
       "      <td>0.0</td>\n",
       "      <td>0.0</td>\n",
       "      <td>0.0</td>\n",
       "      <td>0.0</td>\n",
       "      <td>0.0</td>\n",
       "      <td>0.0</td>\n",
       "      <td>0.0</td>\n",
       "      <td>0.0</td>\n",
       "      <td>0.0</td>\n",
       "      <td>0.0</td>\n",
       "      <td>0.0</td>\n",
       "      <td>0.0</td>\n",
       "      <td>0.0</td>\n",
       "      <td>0.0</td>\n",
       "      <td>0.0</td>\n",
       "      <td>0.0</td>\n",
       "      <td>0.0</td>\n",
       "      <td>0.0</td>\n",
       "      <td>0.0</td>\n",
       "      <td>0.0</td>\n",
       "      <td>0.0</td>\n",
       "      <td>0.0</td>\n",
       "      <td>0.0</td>\n",
       "      <td>0.0</td>\n",
       "      <td>0.0</td>\n",
       "      <td>0.0</td>\n",
       "      <td>0.0</td>\n",
       "      <td>0.0</td>\n",
       "      <td>0.0</td>\n",
       "      <td>0.0</td>\n",
       "      <td>0.0</td>\n",
       "      <td>0.0</td>\n",
       "      <td>0.0</td>\n",
       "      <td>0.0</td>\n",
       "      <td>0.0</td>\n",
       "      <td>0.0</td>\n",
       "      <td>0.0</td>\n",
       "      <td>0.0</td>\n",
       "      <td>0.0</td>\n",
       "      <td>0.0</td>\n",
       "      <td>0.0</td>\n",
       "      <td>0.0</td>\n",
       "    </tr>\n",
       "    <tr>\n",
       "      <th>3</th>\n",
       "      <td>0.0</td>\n",
       "      <td>0.0</td>\n",
       "      <td>0.0</td>\n",
       "      <td>0.0</td>\n",
       "      <td>0.0</td>\n",
       "      <td>0.0</td>\n",
       "      <td>0.0</td>\n",
       "      <td>0.0</td>\n",
       "      <td>0.0</td>\n",
       "      <td>0.0</td>\n",
       "      <td>0.0</td>\n",
       "      <td>0.0</td>\n",
       "      <td>0.0</td>\n",
       "      <td>0.0</td>\n",
       "      <td>0.0</td>\n",
       "      <td>0.0</td>\n",
       "      <td>0.0</td>\n",
       "      <td>0.0</td>\n",
       "      <td>0.0</td>\n",
       "      <td>0.0</td>\n",
       "      <td>0.0</td>\n",
       "      <td>0.0</td>\n",
       "      <td>0.0</td>\n",
       "      <td>0.0</td>\n",
       "      <td>0.0</td>\n",
       "      <td>0.0</td>\n",
       "      <td>0.0</td>\n",
       "      <td>0.0</td>\n",
       "      <td>0.0</td>\n",
       "      <td>0.0</td>\n",
       "      <td>0.0</td>\n",
       "      <td>0.0</td>\n",
       "      <td>0.0</td>\n",
       "      <td>0.0</td>\n",
       "      <td>0.0</td>\n",
       "      <td>0.0</td>\n",
       "      <td>0.0</td>\n",
       "      <td>0.0</td>\n",
       "      <td>0.0</td>\n",
       "      <td>0.0</td>\n",
       "      <td>0.0</td>\n",
       "      <td>0.0</td>\n",
       "      <td>0.0</td>\n",
       "      <td>0.0</td>\n",
       "      <td>0.0</td>\n",
       "      <td>0.0</td>\n",
       "      <td>0.0</td>\n",
       "      <td>0.0</td>\n",
       "      <td>0.0</td>\n",
       "      <td>0.0</td>\n",
       "      <td>...</td>\n",
       "      <td>0.0</td>\n",
       "      <td>0.0</td>\n",
       "      <td>0.0</td>\n",
       "      <td>0.0</td>\n",
       "      <td>0.0</td>\n",
       "      <td>0.0</td>\n",
       "      <td>0.0</td>\n",
       "      <td>0.0</td>\n",
       "      <td>0.0</td>\n",
       "      <td>0.0</td>\n",
       "      <td>0.0</td>\n",
       "      <td>0.0</td>\n",
       "      <td>0.0</td>\n",
       "      <td>0.0</td>\n",
       "      <td>0.0</td>\n",
       "      <td>0.0</td>\n",
       "      <td>0.0</td>\n",
       "      <td>0.0</td>\n",
       "      <td>0.0</td>\n",
       "      <td>0.0</td>\n",
       "      <td>0.0</td>\n",
       "      <td>0.0</td>\n",
       "      <td>0.0</td>\n",
       "      <td>0.0</td>\n",
       "      <td>0.0</td>\n",
       "      <td>0.0</td>\n",
       "      <td>0.0</td>\n",
       "      <td>0.0</td>\n",
       "      <td>0.0</td>\n",
       "      <td>0.0</td>\n",
       "      <td>0.0</td>\n",
       "      <td>0.0</td>\n",
       "      <td>0.0</td>\n",
       "      <td>0.0</td>\n",
       "      <td>0.0</td>\n",
       "      <td>0.0</td>\n",
       "      <td>0.0</td>\n",
       "      <td>0.0</td>\n",
       "      <td>0.0</td>\n",
       "      <td>0.0</td>\n",
       "      <td>0.0</td>\n",
       "      <td>0.0</td>\n",
       "      <td>0.0</td>\n",
       "      <td>0.0</td>\n",
       "      <td>0.0</td>\n",
       "      <td>0.0</td>\n",
       "      <td>0.0</td>\n",
       "      <td>0.0</td>\n",
       "      <td>0.0</td>\n",
       "      <td>0.0</td>\n",
       "    </tr>\n",
       "    <tr>\n",
       "      <th>4</th>\n",
       "      <td>0.0</td>\n",
       "      <td>0.0</td>\n",
       "      <td>0.0</td>\n",
       "      <td>0.0</td>\n",
       "      <td>0.0</td>\n",
       "      <td>0.0</td>\n",
       "      <td>0.0</td>\n",
       "      <td>0.0</td>\n",
       "      <td>0.0</td>\n",
       "      <td>0.0</td>\n",
       "      <td>0.0</td>\n",
       "      <td>0.0</td>\n",
       "      <td>0.0</td>\n",
       "      <td>0.0</td>\n",
       "      <td>0.0</td>\n",
       "      <td>0.0</td>\n",
       "      <td>0.0</td>\n",
       "      <td>0.0</td>\n",
       "      <td>0.0</td>\n",
       "      <td>0.0</td>\n",
       "      <td>0.0</td>\n",
       "      <td>0.0</td>\n",
       "      <td>0.0</td>\n",
       "      <td>0.0</td>\n",
       "      <td>0.0</td>\n",
       "      <td>0.0</td>\n",
       "      <td>0.0</td>\n",
       "      <td>0.0</td>\n",
       "      <td>0.0</td>\n",
       "      <td>0.0</td>\n",
       "      <td>0.0</td>\n",
       "      <td>0.0</td>\n",
       "      <td>0.0</td>\n",
       "      <td>0.0</td>\n",
       "      <td>0.0</td>\n",
       "      <td>0.0</td>\n",
       "      <td>0.0</td>\n",
       "      <td>0.0</td>\n",
       "      <td>0.0</td>\n",
       "      <td>0.0</td>\n",
       "      <td>0.0</td>\n",
       "      <td>0.0</td>\n",
       "      <td>0.0</td>\n",
       "      <td>0.0</td>\n",
       "      <td>0.0</td>\n",
       "      <td>0.0</td>\n",
       "      <td>0.0</td>\n",
       "      <td>0.0</td>\n",
       "      <td>0.0</td>\n",
       "      <td>0.0</td>\n",
       "      <td>...</td>\n",
       "      <td>0.0</td>\n",
       "      <td>0.0</td>\n",
       "      <td>0.0</td>\n",
       "      <td>0.0</td>\n",
       "      <td>0.0</td>\n",
       "      <td>0.0</td>\n",
       "      <td>0.0</td>\n",
       "      <td>0.0</td>\n",
       "      <td>0.0</td>\n",
       "      <td>0.0</td>\n",
       "      <td>0.0</td>\n",
       "      <td>0.0</td>\n",
       "      <td>0.0</td>\n",
       "      <td>0.0</td>\n",
       "      <td>0.0</td>\n",
       "      <td>0.0</td>\n",
       "      <td>0.0</td>\n",
       "      <td>0.0</td>\n",
       "      <td>0.0</td>\n",
       "      <td>0.0</td>\n",
       "      <td>0.0</td>\n",
       "      <td>0.0</td>\n",
       "      <td>0.0</td>\n",
       "      <td>0.0</td>\n",
       "      <td>0.0</td>\n",
       "      <td>0.0</td>\n",
       "      <td>0.0</td>\n",
       "      <td>0.0</td>\n",
       "      <td>0.0</td>\n",
       "      <td>0.0</td>\n",
       "      <td>0.0</td>\n",
       "      <td>0.0</td>\n",
       "      <td>0.0</td>\n",
       "      <td>0.0</td>\n",
       "      <td>0.0</td>\n",
       "      <td>0.0</td>\n",
       "      <td>0.0</td>\n",
       "      <td>0.0</td>\n",
       "      <td>0.0</td>\n",
       "      <td>0.0</td>\n",
       "      <td>0.0</td>\n",
       "      <td>0.0</td>\n",
       "      <td>0.0</td>\n",
       "      <td>0.0</td>\n",
       "      <td>0.0</td>\n",
       "      <td>0.0</td>\n",
       "      <td>0.0</td>\n",
       "      <td>0.0</td>\n",
       "      <td>0.0</td>\n",
       "      <td>0.0</td>\n",
       "    </tr>\n",
       "  </tbody>\n",
       "</table>\n",
       "<p>5 rows × 57535 columns</p>\n",
       "</div>"
      ],
      "text/plain": [
       "    00  000  0000  000000031  0002  000billion  000ft  000lb  000s  000th  \\\n",
       "0  0.0  0.0   0.0        0.0   0.0         0.0    0.0    0.0   0.0    0.0   \n",
       "1  0.0  0.0   0.0        0.0   0.0         0.0    0.0    0.0   0.0    0.0   \n",
       "2  0.0  0.0   0.0        0.0   0.0         0.0    0.0    0.0   0.0    0.0   \n",
       "3  0.0  0.0   0.0        0.0   0.0         0.0    0.0    0.0   0.0    0.0   \n",
       "4  0.0  0.0   0.0        0.0   0.0         0.0    0.0    0.0   0.0    0.0   \n",
       "\n",
       "   001  002  003  004  005  006  00684  006s  007  008s  009  00am  00p  00pm  \\\n",
       "0  0.0  0.0  0.0  0.0  0.0  0.0    0.0   0.0  0.0   0.0  0.0   0.0  0.0   0.0   \n",
       "1  0.0  0.0  0.0  0.0  0.0  0.0    0.0   0.0  0.0   0.0  0.0   0.0  0.0   0.0   \n",
       "2  0.0  0.0  0.0  0.0  0.0  0.0    0.0   0.0  0.0   0.0  0.0   0.0  0.0   0.0   \n",
       "3  0.0  0.0  0.0  0.0  0.0  0.0    0.0   0.0  0.0   0.0  0.0   0.0  0.0   0.0   \n",
       "4  0.0  0.0  0.0  0.0  0.0  0.0    0.0   0.0  0.0   0.0  0.0   0.0  0.0   0.0   \n",
       "\n",
       "    01  010  011  013  014  018  01pm   02  020  022  023  0235  024  025  \\\n",
       "0  0.0  0.0  0.0  0.0  0.0  0.0   0.0  0.0  0.0  0.0  0.0   0.0  0.0  0.0   \n",
       "1  0.0  0.0  0.0  0.0  0.0  0.0   0.0  0.0  0.0  0.0  0.0   0.0  0.0  0.0   \n",
       "2  0.0  0.0  0.0  0.0  0.0  0.0   0.0  0.0  0.0  0.0  0.0   0.0  0.0  0.0   \n",
       "3  0.0  0.0  0.0  0.0  0.0  0.0   0.0  0.0  0.0  0.0  0.0   0.0  0.0  0.0   \n",
       "4  0.0  0.0  0.0  0.0  0.0  0.0   0.0  0.0  0.0  0.0  0.0   0.0  0.0  0.0   \n",
       "\n",
       "   026  027  028  029  02welcome   03  0325  033  039   04  040  042 ...   \\\n",
       "0  0.0  0.0  0.0  0.0        0.0  0.0   0.0  0.0  0.0  0.0  0.0  0.0 ...    \n",
       "1  0.0  0.0  0.0  0.0        0.0  0.0   0.0  0.0  0.0  0.0  0.0  0.0 ...    \n",
       "2  0.0  0.0  0.0  0.0        0.0  0.0   0.0  0.0  0.0  0.0  0.0  0.0 ...    \n",
       "3  0.0  0.0  0.0  0.0        0.0  0.0   0.0  0.0  0.0  0.0  0.0  0.0 ...    \n",
       "4  0.0  0.0  0.0  0.0        0.0  0.0   0.0  0.0  0.0  0.0  0.0  0.0 ...    \n",
       "\n",
       "   œif  œiâ  œlord  œmafia  œmaster  œmid  œmysterious  œnew  œno  œpuppet  \\\n",
       "0  0.0  0.0    0.0     0.0      0.0   0.0          0.0   0.0  0.0      0.0   \n",
       "1  0.0  0.0    0.0     0.0      0.0   0.0          0.0   0.0  0.0      0.0   \n",
       "2  0.0  0.0    0.0     0.0      0.0   0.0          0.0   0.0  0.0      0.0   \n",
       "3  0.0  0.0    0.0     0.0      0.0   0.0          0.0   0.0  0.0      0.0   \n",
       "4  0.0  0.0    0.0     0.0      0.0   0.0          0.0   0.0  0.0      0.0   \n",
       "\n",
       "   œreceiving  œshadow  œsuddenly  œterror  œtheyâ  œurgent  œwe  œwhoa  \\\n",
       "0         0.0      0.0        0.0      0.0     0.0      0.0  0.0    0.0   \n",
       "1         0.0      0.0        0.0      0.0     0.0      0.0  0.0    0.0   \n",
       "2         0.0      0.0        0.0      0.0     0.0      0.0  0.0    0.0   \n",
       "3         0.0      0.0        0.0      0.0     0.0      0.0  0.0    0.0   \n",
       "4         0.0      0.0        0.0      0.0     0.0      0.0  0.0    0.0   \n",
       "\n",
       "   œworry  œwow  œyou   œâ   śâ   şđ  šćepanović   ź4  ź50  željko  δ18o  \\\n",
       "0     0.0   0.0   0.0  0.0  0.0  0.0         0.0  0.0  0.0     0.0   0.0   \n",
       "1     0.0   0.0   0.0  0.0  0.0  0.0         0.0  0.0  0.0     0.0   0.0   \n",
       "2     0.0   0.0   0.0  0.0  0.0  0.0         0.0  0.0  0.0     0.0   0.0   \n",
       "3     0.0   0.0   0.0  0.0  0.0  0.0         0.0  0.0  0.0     0.0   0.0   \n",
       "4     0.0   0.0   0.0  0.0  0.0  0.0         0.0  0.0  0.0     0.0   0.0   \n",
       "\n",
       "   грозный  минобороны  окт  опубликовано  россии  ужасный  фото   эa  эin  \\\n",
       "0      0.0         0.0  0.0           0.0     0.0      0.0   0.0  0.0  0.0   \n",
       "1      0.0         0.0  0.0           0.0     0.0      0.0   0.0  0.0  0.0   \n",
       "2      0.0         0.0  0.0           0.0     0.0      0.0   0.0  0.0  0.0   \n",
       "3      0.0         0.0  0.0           0.0     0.0      0.0   0.0  0.0  0.0   \n",
       "4      0.0         0.0  0.0           0.0     0.0      0.0   0.0  0.0  0.0   \n",
       "\n",
       "   эthe  яркий  إنفوجرافيك  السعودية  النيرب  عربي  ಠ_ಠ  ḥaram  不動心   初心   残心  \\\n",
       "0   0.0    0.0         0.0       0.0     0.0   0.0  0.0    0.0  0.0  0.0  0.0   \n",
       "1   0.0    0.0         0.0       0.0     0.0   0.0  0.0    0.0  0.0  0.0  0.0   \n",
       "2   0.0    0.0         0.0       0.0     0.0   0.0  0.0    0.0  0.0  0.0  0.0   \n",
       "3   0.0    0.0         0.0       0.0     0.0   0.0  0.0    0.0  0.0  0.0  0.0   \n",
       "4   0.0    0.0         0.0       0.0     0.0   0.0  0.0    0.0  0.0  0.0  0.0   \n",
       "\n",
       "    無心  \n",
       "0  0.0  \n",
       "1  0.0  \n",
       "2  0.0  \n",
       "3  0.0  \n",
       "4  0.0  \n",
       "\n",
       "[5 rows x 57535 columns]"
      ]
     },
     "execution_count": 45,
     "metadata": {},
     "output_type": "execute_result"
    }
   ],
   "source": [
    "#View data \n",
    "df_tf.head()"
   ]
  },
  {
   "cell_type": "code",
   "execution_count": null,
   "metadata": {},
   "outputs": [],
   "source": []
  },
  {
   "cell_type": "code",
   "execution_count": null,
   "metadata": {},
   "outputs": [],
   "source": []
  },
  {
   "cell_type": "code",
   "execution_count": null,
   "metadata": {},
   "outputs": [],
   "source": []
  },
  {
   "cell_type": "code",
   "execution_count": null,
   "metadata": {},
   "outputs": [],
   "source": []
  },
  {
   "cell_type": "code",
   "execution_count": null,
   "metadata": {},
   "outputs": [],
   "source": []
  },
  {
   "cell_type": "markdown",
   "metadata": {},
   "source": [
    "Now that we have our two vectorized datasets. Let's get into the modeling."
   ]
  },
  {
   "cell_type": "markdown",
   "metadata": {},
   "source": []
  },
  {
   "cell_type": "code",
   "execution_count": null,
   "metadata": {},
   "outputs": [],
   "source": []
  },
  {
   "cell_type": "markdown",
   "metadata": {},
   "source": [
    "### Naive Bayes"
   ]
  },
  {
   "cell_type": "markdown",
   "metadata": {},
   "source": [
    "Bayes Theorem covers the probabilistic relationship between multiple variables, and specifically allows us to define one conditional in terms of the underlying probabilities and the inverse condition. Specifically, it can be defined as:\n",
    "\n",
    "$$P(y|x) = P(y)P(x|y)/P(x)$$\n",
    "\n",
    "This means the probability of y given x condition equals the probability of y times the probability of x given y condition divided by the probability of x.\n",
    "\n",
    "This theorem can be extended to when x is a vector (containing the multiple x variables used as inputs for the model) to:\n",
    "\n",
    "$$P(y|x_1,...,x_n) = P(y)P(x_1,...,x_n|y)/P(x_1,...,x_n)$$"
   ]
  },
  {
   "cell_type": "markdown",
   "metadata": {},
   "source": [
    "Let's pretend we have an email with three words: \"Send money now.\" We'll use Naive Bayes to classify it as **ham or spam.**\n",
    "\n",
    "$$P(spam \\ | \\ \\text{send money now}) = \\frac {P(\\text{send money now} \\ | \\ spam) \\times P(spam)} {P(\\text{send money now})}$$\n",
    "\n",
    "By assuming that the features (the words) are **conditionally independent**, we can simplify the likelihood function:\n",
    "\n",
    "$$P(spam \\ | \\ \\text{send money now}) \\approx \\frac {P(\\text{send} \\ | \\ spam) \\times P(\\text{money} \\ | \\ spam) \\times P(\\text{now} \\ | \\ spam) \\times P(spam)} {P(\\text{send money now})}$$\n",
    "\n",
    "We can calculate all of the values in the numerator by examining a corpus of **spam email**:\n",
    "\n",
    "$$P(spam \\ | \\ \\text{send money now}) \\approx \\frac {0.2 \\times 0.1 \\times 0.1 \\times 0.9} {P(\\text{send money now})} = \\frac {0.0018} {P(\\text{send money now})}$$\n",
    "\n",
    "We would repeat this process with a corpus of **ham email**:\n",
    "\n",
    "$$P(ham \\ | \\ \\text{send money now}) \\approx \\frac {0.05 \\times 0.01 \\times 0.1 \\times 0.1} {P(\\text{send money now})} = \\frac {0.000005} {P(\\text{send money now})}$$\n",
    "\n",
    "All we care about is whether spam or ham has the **higher probability**, and so we predict that the email is **spam**."
   ]
  },
  {
   "cell_type": "markdown",
   "metadata": {},
   "source": [
    "#### Key takeaways\n",
    "\n",
    "- The **\"naive\" assumption** of Naive Bayes (that the features are conditionally independent) is critical to making these calculations simple.\n",
    "- The **normalization constant** (the denominator) can be ignored since it's the same for all classes.\n",
    "- The **prior probability** is much less relevant once you have a lot of features."
   ]
  },
  {
   "cell_type": "markdown",
   "metadata": {},
   "source": [
    "### <b>Pros</b>: \n",
    "#### - Very fast. Adept at handling tens of thousands of features which is why it's used for text classification\n",
    "#### - Works well with a small number of observations\n",
    "#### - Isn't negatively affected by \"noise\"\n",
    "\n",
    "### <b>Cons</b>:\n",
    "#### - Useless for probabilities. Most of the time assigns probabilites that are close to zero or one\n",
    "#### - It is literally \"naive\". Meaning it assumes features are independent."
   ]
  },
  {
   "cell_type": "code",
   "execution_count": null,
   "metadata": {},
   "outputs": [],
   "source": []
  },
  {
   "cell_type": "code",
   "execution_count": null,
   "metadata": {},
   "outputs": [],
   "source": []
  },
  {
   "cell_type": "code",
   "execution_count": null,
   "metadata": {},
   "outputs": [],
   "source": []
  },
  {
   "cell_type": "markdown",
   "metadata": {},
   "source": [
    "Test NB model on the count vectorized data. Re-run the Count Vectorizer with stop_words = \"english\""
   ]
  },
  {
   "cell_type": "code",
   "execution_count": 46,
   "metadata": {},
   "outputs": [],
   "source": [
    "#Intialize Count Vectorizer\n",
    "count_vec = CountVectorizer(stop_words=\"english\")\n",
    "#Fit Count Vectorizer\n",
    "dtm_cv = count_vec.fit_transform(X)\n",
    "#Convert it to a pandas data frame\n",
    "df_cv = pd.DataFrame(dtm_cv.toarray(), columns=count_vec.get_feature_names())"
   ]
  },
  {
   "cell_type": "markdown",
   "metadata": {},
   "source": [
    "Fit model"
   ]
  },
  {
   "cell_type": "code",
   "execution_count": 47,
   "metadata": {},
   "outputs": [
    {
     "data": {
      "text/plain": [
       "0.9272964736612973"
      ]
     },
     "execution_count": 47,
     "metadata": {},
     "output_type": "execute_result"
    }
   ],
   "source": [
    "#Initialize model\n",
    "model = MultinomialNB()\n",
    "#Fit model with df_cv and y\n",
    "model.fit(df_cv, y)\n",
    "#score the model\n",
    "model.score(df_cv, y)"
   ]
  },
  {
   "cell_type": "markdown",
   "metadata": {},
   "source": [
    "Re-run the TFIDF Vectorizer with stop_words = \"english\""
   ]
  },
  {
   "cell_type": "code",
   "execution_count": 48,
   "metadata": {},
   "outputs": [],
   "source": [
    "#Intialize TFIDF Vectorizer\n",
    "tf_vec = TfidfVectorizer()\n",
    "#Fit TFIDF Vectorizer\n",
    "dtm_tf = tf_vec.fit_transform(X)\n",
    "#Convert it to a pandas data frame\n",
    "df_tf = pd.DataFrame(dtm_tf.toarray(), columns=tf_vec.get_feature_names())"
   ]
  },
  {
   "cell_type": "code",
   "execution_count": 49,
   "metadata": {},
   "outputs": [
    {
     "data": {
      "text/plain": [
       "0.86482368306486723"
      ]
     },
     "execution_count": 49,
     "metadata": {},
     "output_type": "execute_result"
    }
   ],
   "source": [
    "#Initialize model\n",
    "model = MultinomialNB()\n",
    "#Fit model with df_tf and y\n",
    "model.fit(df_tf, y)\n",
    "#score the model\n",
    "model.score(df_tf, y)"
   ]
  },
  {
   "cell_type": "code",
   "execution_count": null,
   "metadata": {},
   "outputs": [],
   "source": []
  },
  {
   "cell_type": "markdown",
   "metadata": {},
   "source": [
    "Some good scores! Or are they?"
   ]
  },
  {
   "cell_type": "code",
   "execution_count": null,
   "metadata": {},
   "outputs": [],
   "source": []
  },
  {
   "cell_type": "code",
   "execution_count": null,
   "metadata": {},
   "outputs": [],
   "source": []
  },
  {
   "cell_type": "markdown",
   "metadata": {},
   "source": [
    "Time for some cross validation."
   ]
  },
  {
   "cell_type": "code",
   "execution_count": 52,
   "metadata": {},
   "outputs": [
    {
     "data": {
      "text/plain": [
       "0.87851046698872781"
      ]
     },
     "execution_count": 52,
     "metadata": {},
     "output_type": "execute_result"
    }
   ],
   "source": [
    "#Call cross_val_score on the count vectorized dataset. Call .values on df_cv\n",
    "cross_val_score(MultinomialNB(), df_cv.values, y, cv = 5, scoring=\"accuracy\").mean()"
   ]
  },
  {
   "cell_type": "code",
   "execution_count": 54,
   "metadata": {},
   "outputs": [
    {
     "data": {
      "text/plain": [
       "0.78254759874964475"
      ]
     },
     "execution_count": 54,
     "metadata": {},
     "output_type": "execute_result"
    }
   ],
   "source": [
    "#Call cross_val_score on the tfidf vectorized dataset. Call .values on df_tf\n",
    "cross_val_score(MultinomialNB(), df_tf.values, y, cv = 5, scoring=\"accuracy\").mean()"
   ]
  },
  {
   "cell_type": "code",
   "execution_count": null,
   "metadata": {},
   "outputs": [],
   "source": []
  },
  {
   "cell_type": "code",
   "execution_count": null,
   "metadata": {},
   "outputs": [],
   "source": []
  },
  {
   "cell_type": "markdown",
   "metadata": {},
   "source": [
    "Which one wins? Count or TFIDF vectorizer?"
   ]
  },
  {
   "cell_type": "code",
   "execution_count": null,
   "metadata": {},
   "outputs": [],
   "source": []
  },
  {
   "cell_type": "code",
   "execution_count": null,
   "metadata": {},
   "outputs": [],
   "source": []
  },
  {
   "cell_type": "markdown",
   "metadata": {},
   "source": [
    "Now we're going to optimize our model by testing out every possible configuration"
   ]
  },
  {
   "cell_type": "code",
   "execution_count": null,
   "metadata": {},
   "outputs": [],
   "source": []
  },
  {
   "cell_type": "code",
   "execution_count": null,
   "metadata": {},
   "outputs": [],
   "source": []
  },
  {
   "cell_type": "markdown",
   "metadata": {},
   "source": [
    "### Grid Searching\n",
    "\n",
    "https://machinelearningmastery.com/how-to-tune-algorithm-parameters-with-scikit-learn/"
   ]
  },
  {
   "cell_type": "code",
   "execution_count": null,
   "metadata": {},
   "outputs": [],
   "source": []
  },
  {
   "cell_type": "markdown",
   "metadata": {},
   "source": [
    "Create dictionaries for our \"grids\" aka every possible combination of configuration."
   ]
  },
  {
   "cell_type": "code",
   "execution_count": 87,
   "metadata": {},
   "outputs": [],
   "source": [
    "#Grid dictionary for count vectorized data\n",
    "param_grid_cv = {}\n",
    "param_grid_cv[\"countvectorizer__ngram_range\"] = [(1,1), (1,2), (2,2)]\n",
    "param_grid_cv[\"countvectorizer__max_features\"] = [1000,5000, 10000]"
   ]
  },
  {
   "cell_type": "code",
   "execution_count": 77,
   "metadata": {},
   "outputs": [],
   "source": [
    "#Grid dictionary for tfidf vectorized data\n",
    "param_grid_tf = {}\n",
    "param_grid_tf[\"tfidfvectorizer__ngram_range\"] = [(1,1), (1,2), (2,2)]\n",
    "param_grid_tf[\"tfidfvectorizer__max_features\"] = [1000, 5000, 10000]"
   ]
  },
  {
   "cell_type": "code",
   "execution_count": null,
   "metadata": {},
   "outputs": [],
   "source": []
  },
  {
   "cell_type": "markdown",
   "metadata": {},
   "source": [
    "Make a pipeline"
   ]
  },
  {
   "cell_type": "code",
   "execution_count": 88,
   "metadata": {},
   "outputs": [],
   "source": [
    "#Create pipeline for count vectorized data\n",
    "pipe_cv = make_pipeline(CountVectorizer(stop_words=\"english\"), MultinomialNB())"
   ]
  },
  {
   "cell_type": "code",
   "execution_count": 79,
   "metadata": {},
   "outputs": [],
   "source": [
    "#Create pipeline for tfidf vectorized data\n",
    "pipe_tf = make_pipeline(TfidfVectorizer(stop_words=\"english\"), MultinomialNB())"
   ]
  },
  {
   "cell_type": "markdown",
   "metadata": {},
   "source": [
    "Establish the grids"
   ]
  },
  {
   "cell_type": "code",
   "execution_count": 89,
   "metadata": {},
   "outputs": [],
   "source": [
    "#Create grid for count vectorized data\n",
    "grid_cv = GridSearchCV(pipe_cv, param_grid_cv, cv=3, scoring='accuracy')"
   ]
  },
  {
   "cell_type": "code",
   "execution_count": 90,
   "metadata": {},
   "outputs": [],
   "source": [
    "#Create grid for tfidf vectorized data\n",
    "grid_tf = GridSearchCV(pipe_tf, param_grid_tf, cv=3, scoring='accuracy')"
   ]
  },
  {
   "cell_type": "markdown",
   "metadata": {},
   "source": [
    "This is gonna take a while so let's measure how long it takes"
   ]
  },
  {
   "cell_type": "code",
   "execution_count": 82,
   "metadata": {},
   "outputs": [],
   "source": [
    "#Import time library\n",
    "from time import time "
   ]
  },
  {
   "cell_type": "code",
   "execution_count": 91,
   "metadata": {},
   "outputs": [
    {
     "name": "stdout",
     "output_type": "stream",
     "text": [
      "297.925406933\n"
     ]
    }
   ],
   "source": [
    "#Fit and time the grid_cv\n",
    "t = time()\n",
    "#Fit grid_cv on X and y\n",
    "grid_cv.fit(X,y)\n",
    "print(time()-t)"
   ]
  },
  {
   "cell_type": "code",
   "execution_count": 94,
   "metadata": {},
   "outputs": [
    {
     "name": "stdout",
     "output_type": "stream",
     "text": [
      "280.145465851\n"
     ]
    }
   ],
   "source": [
    "#Fit and time the grid_tf\n",
    "t = time()\n",
    "#Fit grid_cv on X and y\n",
    "grid_tf.fit(X,y)\n",
    "print(time()-t)"
   ]
  },
  {
   "cell_type": "code",
   "execution_count": 92,
   "metadata": {},
   "outputs": [
    {
     "name": "stdout",
     "output_type": "stream",
     "text": [
      "{'countvectorizer__ngram_range': (2, 2), 'countvectorizer__max_features': 10000}\n",
      "0.884196778407\n"
     ]
    }
   ],
   "source": [
    "#Look at the best parameters and the best scores for count vectorized data\n",
    "print(grid_cv.best_params_)\n",
    "print(grid_cv.best_score_)"
   ]
  },
  {
   "cell_type": "code",
   "execution_count": 95,
   "metadata": {},
   "outputs": [
    {
     "name": "stdout",
     "output_type": "stream",
     "text": [
      "{'tfidfvectorizer__ngram_range': (2, 2), 'tfidfvectorizer__max_features': 10000}\n",
      "0.883108402264\n"
     ]
    }
   ],
   "source": [
    "#Look at the best parameters and the best scores for tfidf vectorized data\n",
    "print(grid_tf.best_params_)\n",
    "print(grid_tf.best_score_)"
   ]
  },
  {
   "cell_type": "code",
   "execution_count": null,
   "metadata": {},
   "outputs": [],
   "source": []
  },
  {
   "cell_type": "markdown",
   "metadata": {},
   "source": [
    "## Bonus Section: How to find the \"fakest\" and \"realest\" words"
   ]
  },
  {
   "cell_type": "code",
   "execution_count": null,
   "metadata": {},
   "outputs": [],
   "source": []
  },
  {
   "cell_type": "code",
   "execution_count": 97,
   "metadata": {},
   "outputs": [
    {
     "data": {
      "text/plain": [
       "0.92707879843273833"
      ]
     },
     "execution_count": 97,
     "metadata": {},
     "output_type": "execute_result"
    }
   ],
   "source": [
    "#Fit count vectorizer and NB model\n",
    "\n",
    "count_vec = CountVectorizer()\n",
    "#Fit Count Vectorizer\n",
    "dtm_cv = count_vec.fit_transform(X)\n",
    "\n",
    "model = MultinomialNB()\n",
    "model.fit(dtm_cv, y)\n",
    "model.score(dtm_cv, y)"
   ]
  },
  {
   "cell_type": "code",
   "execution_count": 98,
   "metadata": {},
   "outputs": [],
   "source": [
    "#Assign feature list to tokens\n",
    "tokens = count_vec.get_feature_names()"
   ]
  },
  {
   "cell_type": "code",
   "execution_count": 99,
   "metadata": {},
   "outputs": [
    {
     "data": {
      "text/plain": [
       "array([  43.,  960.,    1., ...,    1.,    1.,    1.])"
      ]
     },
     "execution_count": 99,
     "metadata": {},
     "output_type": "execute_result"
    }
   ],
   "source": [
    "#Counts words in fake articles\n",
    "fake_token_count = model.feature_count_[0,:]\n",
    "fake_token_count"
   ]
  },
  {
   "cell_type": "code",
   "execution_count": 100,
   "metadata": {},
   "outputs": [
    {
     "data": {
      "text/plain": [
       "array([  11.,  972.,    1., ...,    0.,    0.,    0.])"
      ]
     },
     "execution_count": 100,
     "metadata": {},
     "output_type": "execute_result"
    }
   ],
   "source": [
    "#Counts words in real articles \n",
    "real_token_count = model.feature_count_[1,:]\n",
    "real_token_count"
   ]
  },
  {
   "cell_type": "code",
   "execution_count": 101,
   "metadata": {},
   "outputs": [],
   "source": [
    "#Input tokens, fake_token_count, and real_token_count into a pandas data frame\n",
    "tok_df = pd.DataFrame({\"token\":tokens, \n",
    "                       \"fake\":fake_token_count, \n",
    "                       \"real\":real_token_count}).set_index(\"token\")"
   ]
  },
  {
   "cell_type": "code",
   "execution_count": 102,
   "metadata": {},
   "outputs": [],
   "source": [
    "#Add 1 to fake and real columns\n",
    "tok_df[\"fake\"] += 1\n",
    "tok_df.real += 1"
   ]
  },
  {
   "cell_type": "code",
   "execution_count": 104,
   "metadata": {},
   "outputs": [],
   "source": [
    "#Divide each value in the fake and real columns by their corresponding class_count value\n",
    "tok_df.fake = tok_df.fake/model.class_count_[0]\n",
    "tok_df.real = tok_df.real/model.class_count_[1]"
   ]
  },
  {
   "cell_type": "code",
   "execution_count": 105,
   "metadata": {},
   "outputs": [],
   "source": [
    "#Derive the ratio between fake and real\n",
    "tok_df[\"ratio\"] = tok_df.fake/tok_df.real"
   ]
  },
  {
   "cell_type": "markdown",
   "metadata": {},
   "source": [
    "Time to see the \"fakest\" words"
   ]
  },
  {
   "cell_type": "code",
   "execution_count": 106,
   "metadata": {},
   "outputs": [
    {
     "data": {
      "text/html": [
       "<div>\n",
       "<table border=\"1\" class=\"dataframe\">\n",
       "  <thead>\n",
       "    <tr style=\"text-align: right;\">\n",
       "      <th></th>\n",
       "      <th>fake</th>\n",
       "      <th>real</th>\n",
       "      <th>ratio</th>\n",
       "    </tr>\n",
       "    <tr>\n",
       "      <th>token</th>\n",
       "      <th></th>\n",
       "      <th></th>\n",
       "      <th></th>\n",
       "    </tr>\n",
       "  </thead>\n",
       "  <tbody>\n",
       "    <tr>\n",
       "      <th>http</th>\n",
       "      <td>0.116674</td>\n",
       "      <td>0.000435</td>\n",
       "      <td>268.0</td>\n",
       "    </tr>\n",
       "    <tr>\n",
       "      <th>html</th>\n",
       "      <td>0.037440</td>\n",
       "      <td>0.000435</td>\n",
       "      <td>86.0</td>\n",
       "    </tr>\n",
       "    <tr>\n",
       "      <th>pilger</th>\n",
       "      <td>0.033957</td>\n",
       "      <td>0.000435</td>\n",
       "      <td>78.0</td>\n",
       "    </tr>\n",
       "    <tr>\n",
       "      <th>widget</th>\n",
       "      <td>0.033087</td>\n",
       "      <td>0.000435</td>\n",
       "      <td>76.0</td>\n",
       "    </tr>\n",
       "    <tr>\n",
       "      <th>infowars</th>\n",
       "      <td>0.099260</td>\n",
       "      <td>0.001306</td>\n",
       "      <td>76.0</td>\n",
       "    </tr>\n",
       "    <tr>\n",
       "      <th>kadzik</th>\n",
       "      <td>0.031345</td>\n",
       "      <td>0.000435</td>\n",
       "      <td>72.0</td>\n",
       "    </tr>\n",
       "    <tr>\n",
       "      <th>trunews</th>\n",
       "      <td>0.029168</td>\n",
       "      <td>0.000435</td>\n",
       "      <td>67.0</td>\n",
       "    </tr>\n",
       "    <tr>\n",
       "      <th>flu</th>\n",
       "      <td>0.028733</td>\n",
       "      <td>0.000435</td>\n",
       "      <td>66.0</td>\n",
       "    </tr>\n",
       "    <tr>\n",
       "      <th>snip</th>\n",
       "      <td>0.027862</td>\n",
       "      <td>0.000435</td>\n",
       "      <td>64.0</td>\n",
       "    </tr>\n",
       "    <tr>\n",
       "      <th>sheeple</th>\n",
       "      <td>0.027427</td>\n",
       "      <td>0.000435</td>\n",
       "      <td>63.0</td>\n",
       "    </tr>\n",
       "    <tr>\n",
       "      <th>th</th>\n",
       "      <td>0.026121</td>\n",
       "      <td>0.000435</td>\n",
       "      <td>60.0</td>\n",
       "    </tr>\n",
       "    <tr>\n",
       "      <th>bullion</th>\n",
       "      <td>0.026121</td>\n",
       "      <td>0.000435</td>\n",
       "      <td>60.0</td>\n",
       "    </tr>\n",
       "    <tr>\n",
       "      <th>metals</th>\n",
       "      <td>0.025686</td>\n",
       "      <td>0.000435</td>\n",
       "      <td>59.0</td>\n",
       "    </tr>\n",
       "    <tr>\n",
       "      <th>ru</th>\n",
       "      <td>0.025686</td>\n",
       "      <td>0.000435</td>\n",
       "      <td>59.0</td>\n",
       "    </tr>\n",
       "    <tr>\n",
       "      <th>dapl</th>\n",
       "      <td>0.024815</td>\n",
       "      <td>0.000435</td>\n",
       "      <td>57.0</td>\n",
       "    </tr>\n",
       "    <tr>\n",
       "      <th>indigenous</th>\n",
       "      <td>0.048324</td>\n",
       "      <td>0.000871</td>\n",
       "      <td>55.5</td>\n",
       "    </tr>\n",
       "    <tr>\n",
       "      <th>protein</th>\n",
       "      <td>0.023509</td>\n",
       "      <td>0.000435</td>\n",
       "      <td>54.0</td>\n",
       "    </tr>\n",
       "    <tr>\n",
       "      <th>adhd</th>\n",
       "      <td>0.023074</td>\n",
       "      <td>0.000435</td>\n",
       "      <td>53.0</td>\n",
       "    </tr>\n",
       "    <tr>\n",
       "      <th>ufo</th>\n",
       "      <td>0.023074</td>\n",
       "      <td>0.000435</td>\n",
       "      <td>53.0</td>\n",
       "    </tr>\n",
       "    <tr>\n",
       "      <th>militarized</th>\n",
       "      <td>0.023074</td>\n",
       "      <td>0.000435</td>\n",
       "      <td>53.0</td>\n",
       "    </tr>\n",
       "    <tr>\n",
       "      <th>ja</th>\n",
       "      <td>0.022203</td>\n",
       "      <td>0.000435</td>\n",
       "      <td>51.0</td>\n",
       "    </tr>\n",
       "    <tr>\n",
       "      <th>pharma</th>\n",
       "      <td>0.022203</td>\n",
       "      <td>0.000435</td>\n",
       "      <td>51.0</td>\n",
       "    </tr>\n",
       "    <tr>\n",
       "      <th>tibet</th>\n",
       "      <td>0.021768</td>\n",
       "      <td>0.000435</td>\n",
       "      <td>50.0</td>\n",
       "    </tr>\n",
       "    <tr>\n",
       "      <th>unesco</th>\n",
       "      <td>0.042664</td>\n",
       "      <td>0.000871</td>\n",
       "      <td>49.0</td>\n",
       "    </tr>\n",
       "    <tr>\n",
       "      <th>tzrwu</th>\n",
       "      <td>0.021332</td>\n",
       "      <td>0.000435</td>\n",
       "      <td>49.0</td>\n",
       "    </tr>\n",
       "    <tr>\n",
       "      <th>infowarsstore</th>\n",
       "      <td>0.021332</td>\n",
       "      <td>0.000435</td>\n",
       "      <td>49.0</td>\n",
       "    </tr>\n",
       "    <tr>\n",
       "      <th>utm_campaign</th>\n",
       "      <td>0.021332</td>\n",
       "      <td>0.000435</td>\n",
       "      <td>49.0</td>\n",
       "    </tr>\n",
       "    <tr>\n",
       "      <th>utm_content</th>\n",
       "      <td>0.021332</td>\n",
       "      <td>0.000435</td>\n",
       "      <td>49.0</td>\n",
       "    </tr>\n",
       "    <tr>\n",
       "      <th>utm_medium</th>\n",
       "      <td>0.021332</td>\n",
       "      <td>0.000435</td>\n",
       "      <td>49.0</td>\n",
       "    </tr>\n",
       "    <tr>\n",
       "      <th>utm_source</th>\n",
       "      <td>0.021332</td>\n",
       "      <td>0.000435</td>\n",
       "      <td>49.0</td>\n",
       "    </tr>\n",
       "    <tr>\n",
       "      <th>ims</th>\n",
       "      <td>0.021332</td>\n",
       "      <td>0.000435</td>\n",
       "      <td>49.0</td>\n",
       "    </tr>\n",
       "    <tr>\n",
       "      <th>juror</th>\n",
       "      <td>0.020026</td>\n",
       "      <td>0.000435</td>\n",
       "      <td>46.0</td>\n",
       "    </tr>\n",
       "    <tr>\n",
       "      <th>haganah</th>\n",
       "      <td>0.020026</td>\n",
       "      <td>0.000435</td>\n",
       "      <td>46.0</td>\n",
       "    </tr>\n",
       "    <tr>\n",
       "      <th>deposit</th>\n",
       "      <td>0.020026</td>\n",
       "      <td>0.000435</td>\n",
       "      <td>46.0</td>\n",
       "    </tr>\n",
       "    <tr>\n",
       "      <th>quantum</th>\n",
       "      <td>0.019591</td>\n",
       "      <td>0.000435</td>\n",
       "      <td>45.0</td>\n",
       "    </tr>\n",
       "    <tr>\n",
       "      <th>marina</th>\n",
       "      <td>0.019155</td>\n",
       "      <td>0.000435</td>\n",
       "      <td>44.0</td>\n",
       "    </tr>\n",
       "    <tr>\n",
       "      <th>pv</th>\n",
       "      <td>0.019155</td>\n",
       "      <td>0.000435</td>\n",
       "      <td>44.0</td>\n",
       "    </tr>\n",
       "    <tr>\n",
       "      <th>ceta</th>\n",
       "      <td>0.019155</td>\n",
       "      <td>0.000435</td>\n",
       "      <td>44.0</td>\n",
       "    </tr>\n",
       "    <tr>\n",
       "      <th>splc</th>\n",
       "      <td>0.018720</td>\n",
       "      <td>0.000435</td>\n",
       "      <td>43.0</td>\n",
       "    </tr>\n",
       "    <tr>\n",
       "      <th>icc</th>\n",
       "      <td>0.018285</td>\n",
       "      <td>0.000435</td>\n",
       "      <td>42.0</td>\n",
       "    </tr>\n",
       "  </tbody>\n",
       "</table>\n",
       "</div>"
      ],
      "text/plain": [
       "                   fake      real  ratio\n",
       "token                                   \n",
       "http           0.116674  0.000435  268.0\n",
       "html           0.037440  0.000435   86.0\n",
       "pilger         0.033957  0.000435   78.0\n",
       "widget         0.033087  0.000435   76.0\n",
       "infowars       0.099260  0.001306   76.0\n",
       "kadzik         0.031345  0.000435   72.0\n",
       "trunews        0.029168  0.000435   67.0\n",
       "flu            0.028733  0.000435   66.0\n",
       "snip           0.027862  0.000435   64.0\n",
       "sheeple        0.027427  0.000435   63.0\n",
       "th             0.026121  0.000435   60.0\n",
       "bullion        0.026121  0.000435   60.0\n",
       "metals         0.025686  0.000435   59.0\n",
       "ru             0.025686  0.000435   59.0\n",
       "dapl           0.024815  0.000435   57.0\n",
       "indigenous     0.048324  0.000871   55.5\n",
       "protein        0.023509  0.000435   54.0\n",
       "adhd           0.023074  0.000435   53.0\n",
       "ufo            0.023074  0.000435   53.0\n",
       "militarized    0.023074  0.000435   53.0\n",
       "ja             0.022203  0.000435   51.0\n",
       "pharma         0.022203  0.000435   51.0\n",
       "tibet          0.021768  0.000435   50.0\n",
       "unesco         0.042664  0.000871   49.0\n",
       "tzrwu          0.021332  0.000435   49.0\n",
       "infowarsstore  0.021332  0.000435   49.0\n",
       "utm_campaign   0.021332  0.000435   49.0\n",
       "utm_content    0.021332  0.000435   49.0\n",
       "utm_medium     0.021332  0.000435   49.0\n",
       "utm_source     0.021332  0.000435   49.0\n",
       "ims            0.021332  0.000435   49.0\n",
       "juror          0.020026  0.000435   46.0\n",
       "haganah        0.020026  0.000435   46.0\n",
       "deposit        0.020026  0.000435   46.0\n",
       "quantum        0.019591  0.000435   45.0\n",
       "marina         0.019155  0.000435   44.0\n",
       "pv             0.019155  0.000435   44.0\n",
       "ceta           0.019155  0.000435   44.0\n",
       "splc           0.018720  0.000435   43.0\n",
       "icc            0.018285  0.000435   42.0"
      ]
     },
     "execution_count": 106,
     "metadata": {},
     "output_type": "execute_result"
    }
   ],
   "source": [
    "tok_df.sort_values(by=\"ratio\", ascending=False).head(40)"
   ]
  },
  {
   "cell_type": "markdown",
   "metadata": {},
   "source": [
    "\"Realest\" words"
   ]
  },
  {
   "cell_type": "code",
   "execution_count": 107,
   "metadata": {},
   "outputs": [
    {
     "data": {
      "text/html": [
       "<div>\n",
       "<table border=\"1\" class=\"dataframe\">\n",
       "  <thead>\n",
       "    <tr style=\"text-align: right;\">\n",
       "      <th></th>\n",
       "      <th>fake</th>\n",
       "      <th>real</th>\n",
       "      <th>ratio</th>\n",
       "    </tr>\n",
       "    <tr>\n",
       "      <th>token</th>\n",
       "      <th></th>\n",
       "      <th></th>\n",
       "      <th></th>\n",
       "    </tr>\n",
       "  </thead>\n",
       "  <tbody>\n",
       "    <tr>\n",
       "      <th>caucuses</th>\n",
       "      <td>0.000435</td>\n",
       "      <td>0.208968</td>\n",
       "      <td>0.002083</td>\n",
       "    </tr>\n",
       "    <tr>\n",
       "      <th>lewandowski</th>\n",
       "      <td>0.000435</td>\n",
       "      <td>0.090118</td>\n",
       "      <td>0.004831</td>\n",
       "    </tr>\n",
       "    <tr>\n",
       "      <th>cruz</th>\n",
       "      <td>0.013061</td>\n",
       "      <td>1.849369</td>\n",
       "      <td>0.007062</td>\n",
       "    </tr>\n",
       "    <tr>\n",
       "      <th>contenders</th>\n",
       "      <td>0.000435</td>\n",
       "      <td>0.056160</td>\n",
       "      <td>0.007752</td>\n",
       "    </tr>\n",
       "    <tr>\n",
       "      <th>fiorina</th>\n",
       "      <td>0.000871</td>\n",
       "      <td>0.105355</td>\n",
       "      <td>0.008264</td>\n",
       "    </tr>\n",
       "    <tr>\n",
       "      <th>moderators</th>\n",
       "      <td>0.000435</td>\n",
       "      <td>0.046582</td>\n",
       "      <td>0.009346</td>\n",
       "    </tr>\n",
       "    <tr>\n",
       "      <th>clinch</th>\n",
       "      <td>0.000435</td>\n",
       "      <td>0.045712</td>\n",
       "      <td>0.009524</td>\n",
       "    </tr>\n",
       "    <tr>\n",
       "      <th>delegates</th>\n",
       "      <td>0.007836</td>\n",
       "      <td>0.822812</td>\n",
       "      <td>0.009524</td>\n",
       "    </tr>\n",
       "    <tr>\n",
       "      <th>carson</th>\n",
       "      <td>0.002177</td>\n",
       "      <td>0.228559</td>\n",
       "      <td>0.009524</td>\n",
       "    </tr>\n",
       "    <tr>\n",
       "      <th>nominating</th>\n",
       "      <td>0.000871</td>\n",
       "      <td>0.086199</td>\n",
       "      <td>0.010101</td>\n",
       "    </tr>\n",
       "    <tr>\n",
       "      <th>delegate</th>\n",
       "      <td>0.002612</td>\n",
       "      <td>0.251197</td>\n",
       "      <td>0.010399</td>\n",
       "    </tr>\n",
       "    <tr>\n",
       "      <th>rubio</th>\n",
       "      <td>0.014802</td>\n",
       "      <td>1.105790</td>\n",
       "      <td>0.013386</td>\n",
       "    </tr>\n",
       "    <tr>\n",
       "      <th>christie</th>\n",
       "      <td>0.004789</td>\n",
       "      <td>0.355681</td>\n",
       "      <td>0.013464</td>\n",
       "    </tr>\n",
       "    <tr>\n",
       "      <th>237</th>\n",
       "      <td>0.000871</td>\n",
       "      <td>0.063997</td>\n",
       "      <td>0.013605</td>\n",
       "    </tr>\n",
       "    <tr>\n",
       "      <th>santorum</th>\n",
       "      <td>0.000871</td>\n",
       "      <td>0.063997</td>\n",
       "      <td>0.013605</td>\n",
       "    </tr>\n",
       "    <tr>\n",
       "      <th>contests</th>\n",
       "      <td>0.002612</td>\n",
       "      <td>0.186330</td>\n",
       "      <td>0.014019</td>\n",
       "    </tr>\n",
       "    <tr>\n",
       "      <th>neurosurgeon</th>\n",
       "      <td>0.000435</td>\n",
       "      <td>0.030475</td>\n",
       "      <td>0.014286</td>\n",
       "    </tr>\n",
       "    <tr>\n",
       "      <th>kasich</th>\n",
       "      <td>0.008272</td>\n",
       "      <td>0.577710</td>\n",
       "      <td>0.014318</td>\n",
       "    </tr>\n",
       "    <tr>\n",
       "      <th>cpac</th>\n",
       "      <td>0.000435</td>\n",
       "      <td>0.024815</td>\n",
       "      <td>0.017544</td>\n",
       "    </tr>\n",
       "    <tr>\n",
       "      <th>sotomayor</th>\n",
       "      <td>0.000435</td>\n",
       "      <td>0.024380</td>\n",
       "      <td>0.017857</td>\n",
       "    </tr>\n",
       "    <tr>\n",
       "      <th>ailes</th>\n",
       "      <td>0.000435</td>\n",
       "      <td>0.024380</td>\n",
       "      <td>0.017857</td>\n",
       "    </tr>\n",
       "    <tr>\n",
       "      <th>haley</th>\n",
       "      <td>0.000435</td>\n",
       "      <td>0.023944</td>\n",
       "      <td>0.018182</td>\n",
       "    </tr>\n",
       "    <tr>\n",
       "      <th>manafort</th>\n",
       "      <td>0.002612</td>\n",
       "      <td>0.141924</td>\n",
       "      <td>0.018405</td>\n",
       "    </tr>\n",
       "    <tr>\n",
       "      <th>frontrunner</th>\n",
       "      <td>0.000871</td>\n",
       "      <td>0.046147</td>\n",
       "      <td>0.018868</td>\n",
       "    </tr>\n",
       "    <tr>\n",
       "      <th>boehner</th>\n",
       "      <td>0.000871</td>\n",
       "      <td>0.043970</td>\n",
       "      <td>0.019802</td>\n",
       "    </tr>\n",
       "    <tr>\n",
       "      <th>runner</th>\n",
       "      <td>0.004354</td>\n",
       "      <td>0.213322</td>\n",
       "      <td>0.020408</td>\n",
       "    </tr>\n",
       "    <tr>\n",
       "      <th>presumptive</th>\n",
       "      <td>0.003047</td>\n",
       "      <td>0.143666</td>\n",
       "      <td>0.021212</td>\n",
       "    </tr>\n",
       "    <tr>\n",
       "      <th>superdelegates</th>\n",
       "      <td>0.002612</td>\n",
       "      <td>0.120157</td>\n",
       "      <td>0.021739</td>\n",
       "    </tr>\n",
       "    <tr>\n",
       "      <th>bakraoui</th>\n",
       "      <td>0.000435</td>\n",
       "      <td>0.019155</td>\n",
       "      <td>0.022727</td>\n",
       "    </tr>\n",
       "    <tr>\n",
       "      <th>nomination</th>\n",
       "      <td>0.016979</td>\n",
       "      <td>0.735307</td>\n",
       "      <td>0.023091</td>\n",
       "    </tr>\n",
       "    <tr>\n",
       "      <th>mitch</th>\n",
       "      <td>0.001306</td>\n",
       "      <td>0.055290</td>\n",
       "      <td>0.023622</td>\n",
       "    </tr>\n",
       "    <tr>\n",
       "      <th>brash</th>\n",
       "      <td>0.000435</td>\n",
       "      <td>0.017849</td>\n",
       "      <td>0.024390</td>\n",
       "    </tr>\n",
       "    <tr>\n",
       "      <th>endorsements</th>\n",
       "      <td>0.001306</td>\n",
       "      <td>0.053548</td>\n",
       "      <td>0.024390</td>\n",
       "    </tr>\n",
       "    <tr>\n",
       "      <th>marist</th>\n",
       "      <td>0.000435</td>\n",
       "      <td>0.016979</td>\n",
       "      <td>0.025641</td>\n",
       "    </tr>\n",
       "    <tr>\n",
       "      <th>mediabuzz</th>\n",
       "      <td>0.000435</td>\n",
       "      <td>0.016979</td>\n",
       "      <td>0.025641</td>\n",
       "    </tr>\n",
       "    <tr>\n",
       "      <th>marco</th>\n",
       "      <td>0.006966</td>\n",
       "      <td>0.262952</td>\n",
       "      <td>0.026490</td>\n",
       "    </tr>\n",
       "    <tr>\n",
       "      <th>electability</th>\n",
       "      <td>0.000435</td>\n",
       "      <td>0.016108</td>\n",
       "      <td>0.027027</td>\n",
       "    </tr>\n",
       "    <tr>\n",
       "      <th>ayotte</th>\n",
       "      <td>0.000871</td>\n",
       "      <td>0.032216</td>\n",
       "      <td>0.027027</td>\n",
       "    </tr>\n",
       "    <tr>\n",
       "      <th>ky</th>\n",
       "      <td>0.000871</td>\n",
       "      <td>0.032216</td>\n",
       "      <td>0.027027</td>\n",
       "    </tr>\n",
       "    <tr>\n",
       "      <th>quinnipiac</th>\n",
       "      <td>0.000871</td>\n",
       "      <td>0.032216</td>\n",
       "      <td>0.027027</td>\n",
       "    </tr>\n",
       "  </tbody>\n",
       "</table>\n",
       "</div>"
      ],
      "text/plain": [
       "                    fake      real     ratio\n",
       "token                                       \n",
       "caucuses        0.000435  0.208968  0.002083\n",
       "lewandowski     0.000435  0.090118  0.004831\n",
       "cruz            0.013061  1.849369  0.007062\n",
       "contenders      0.000435  0.056160  0.007752\n",
       "fiorina         0.000871  0.105355  0.008264\n",
       "moderators      0.000435  0.046582  0.009346\n",
       "clinch          0.000435  0.045712  0.009524\n",
       "delegates       0.007836  0.822812  0.009524\n",
       "carson          0.002177  0.228559  0.009524\n",
       "nominating      0.000871  0.086199  0.010101\n",
       "delegate        0.002612  0.251197  0.010399\n",
       "rubio           0.014802  1.105790  0.013386\n",
       "christie        0.004789  0.355681  0.013464\n",
       "237             0.000871  0.063997  0.013605\n",
       "santorum        0.000871  0.063997  0.013605\n",
       "contests        0.002612  0.186330  0.014019\n",
       "neurosurgeon    0.000435  0.030475  0.014286\n",
       "kasich          0.008272  0.577710  0.014318\n",
       "cpac            0.000435  0.024815  0.017544\n",
       "sotomayor       0.000435  0.024380  0.017857\n",
       "ailes           0.000435  0.024380  0.017857\n",
       "haley           0.000435  0.023944  0.018182\n",
       "manafort        0.002612  0.141924  0.018405\n",
       "frontrunner     0.000871  0.046147  0.018868\n",
       "boehner         0.000871  0.043970  0.019802\n",
       "runner          0.004354  0.213322  0.020408\n",
       "presumptive     0.003047  0.143666  0.021212\n",
       "superdelegates  0.002612  0.120157  0.021739\n",
       "bakraoui        0.000435  0.019155  0.022727\n",
       "nomination      0.016979  0.735307  0.023091\n",
       "mitch           0.001306  0.055290  0.023622\n",
       "brash           0.000435  0.017849  0.024390\n",
       "endorsements    0.001306  0.053548  0.024390\n",
       "marist          0.000435  0.016979  0.025641\n",
       "mediabuzz       0.000435  0.016979  0.025641\n",
       "marco           0.006966  0.262952  0.026490\n",
       "electability    0.000435  0.016108  0.027027\n",
       "ayotte          0.000871  0.032216  0.027027\n",
       "ky              0.000871  0.032216  0.027027\n",
       "quinnipiac      0.000871  0.032216  0.027027"
      ]
     },
     "execution_count": 107,
     "metadata": {},
     "output_type": "execute_result"
    }
   ],
   "source": [
    "tok_df.sort_values(by=\"ratio\", ascending=True).head(40)"
   ]
  },
  {
   "cell_type": "markdown",
   "metadata": {},
   "source": [
    "Let's plot them"
   ]
  },
  {
   "cell_type": "code",
   "execution_count": 109,
   "metadata": {},
   "outputs": [
    {
     "data": {
      "text/plain": [
       "token\n",
       "http           268.0\n",
       "html            86.0\n",
       "pilger          78.0\n",
       "widget          76.0\n",
       "infowars        76.0\n",
       "kadzik          72.0\n",
       "trunews         67.0\n",
       "flu             66.0\n",
       "snip            64.0\n",
       "sheeple         63.0\n",
       "th              60.0\n",
       "bullion         60.0\n",
       "metals          59.0\n",
       "ru              59.0\n",
       "dapl            57.0\n",
       "indigenous      55.5\n",
       "protein         54.0\n",
       "adhd            53.0\n",
       "ufo             53.0\n",
       "militarized     53.0\n",
       "Name: ratio, dtype: float64"
      ]
     },
     "execution_count": 109,
     "metadata": {},
     "output_type": "execute_result"
    }
   ],
   "source": [
    "top_20_fake = tok_df.sort_values(by=\"ratio\", ascending=False)[\"ratio\"].iloc[:20]\n",
    "top_20_fake"
   ]
  },
  {
   "cell_type": "code",
   "execution_count": 112,
   "metadata": {},
   "outputs": [],
   "source": [
    "tok_df[\"real_ratio\"] = tok_df.real/tok_df.fake"
   ]
  },
  {
   "cell_type": "code",
   "execution_count": 113,
   "metadata": {},
   "outputs": [
    {
     "data": {
      "text/plain": [
       "token\n",
       "caucuses        480.000000\n",
       "lewandowski     207.000000\n",
       "cruz            141.600000\n",
       "contenders      129.000000\n",
       "fiorina         121.000000\n",
       "moderators      107.000000\n",
       "clinch          105.000000\n",
       "carson          105.000000\n",
       "delegates       105.000000\n",
       "nominating       99.000000\n",
       "delegate         96.166667\n",
       "rubio            74.705882\n",
       "christie         74.272727\n",
       "237              73.500000\n",
       "santorum         73.500000\n",
       "contests         71.333333\n",
       "neurosurgeon     70.000000\n",
       "kasich           69.842105\n",
       "cpac             57.000000\n",
       "sotomayor        56.000000\n",
       "Name: real_ratio, dtype: float64"
      ]
     },
     "execution_count": 113,
     "metadata": {},
     "output_type": "execute_result"
    }
   ],
   "source": [
    "top_20_real = tok_df.sort_values(by=\"real_ratio\", ascending=False)[\"real_ratio\"].iloc[:20]\n",
    "top_20_real"
   ]
  },
  {
   "cell_type": "markdown",
   "metadata": {},
   "source": [
    "Plot fakes"
   ]
  },
  {
   "cell_type": "code",
   "execution_count": 119,
   "metadata": {},
   "outputs": [
    {
     "data": {
      "text/plain": [
       "<matplotlib.axes._subplots.AxesSubplot at 0x1a2752d10>"
      ]
     },
     "execution_count": 119,
     "metadata": {},
     "output_type": "execute_result"
    },
    {
     "data": {
      "image/png": "[encoded data removed]",
      "text/plain": [
       "<matplotlib.figure.Figure at 0x19719a650>"
      ]
     },
     "metadata": {},
     "output_type": "display_data"
    }
   ],
   "source": [
    "top_20_fake.plot(kind=\"bar\", figsize=(14, 10))"
   ]
  },
  {
   "cell_type": "markdown",
   "metadata": {},
   "source": [
    "Plot reals"
   ]
  },
  {
   "cell_type": "code",
   "execution_count": 120,
   "metadata": {},
   "outputs": [
    {
     "data": {
      "text/plain": [
       "<matplotlib.axes._subplots.AxesSubplot at 0x1a2a4ca90>"
      ]
     },
     "execution_count": 120,
     "metadata": {},
     "output_type": "execute_result"
    },
    {
     "data": {
      "image/png": "[encoded data removed]",
      "text/plain": [
       "<matplotlib.figure.Figure at 0x1a2871f10>"
      ]
     },
     "metadata": {},
     "output_type": "display_data"
    }
   ],
   "source": [
    "top_20_real.plot(kind=\"bar\", figsize=(14, 10))"
   ]
  },
  {
   "cell_type": "code",
   "execution_count": null,
   "metadata": {},
   "outputs": [],
   "source": []
  }
 ],
 "metadata": {
  "kernelspec": {
   "display_name": "Python 2",
   "language": "python",
   "name": "python2"
  },
  "language_info": {
   "codemirror_mode": {
    "name": "ipython",
    "version": 2
   },
   "file_extension": ".py",
   "mimetype": "text/x-python",
   "name": "python",
   "nbconvert_exporter": "python",
   "pygments_lexer": "ipython2",
   "version": "2.7.13"
  }
 },
 "nbformat": 4,
 "nbformat_minor": 2
}
